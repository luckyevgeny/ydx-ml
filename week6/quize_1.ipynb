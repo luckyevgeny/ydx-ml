{
 "cells": [
  {
   "cell_type": "code",
   "execution_count": 16,
   "metadata": {
    "collapsed": true
   },
   "outputs": [],
   "source": [
    "import sympy as sp\n",
    "sp.init_printing()\n",
    "\n",
    "N, n, k, i, Xi = sp.symbols('N n k i X_i')\n",
    "x_ = sp.symbols('x1:n')"
   ]
  },
  {
   "cell_type": "markdown",
   "metadata": {},
   "source": [
    "### #1\n",
    "В сумке Кати N похожих ключей; только один из них подходит к двери от дома. Когда Катя вечером приходит домой, она наугад достаёт ключ из сумки и пытается открыть им дверь. Если ключ не подходит, она кладёт его обратно в сумку и снова достаёт наугад следующий. Каким законом задаётся распределение номера попытки X, с которой Кате удаётся открыть дверь?"
   ]
  },
  {
   "cell_type": "code",
   "execution_count": 17,
   "metadata": {
    "collapsed": false
   },
   "outputs": [
    {
     "data": {
      "image/png": "[encoded data removed]",
      "text/latex": [
       "$$\\frac{1}{N} \\left(1 - \\frac{1}{N}\\right)^{k - 1}$$"
      ],
      "text/plain": [
       "       k - 1\n",
       "⎛    1⎞     \n",
       "⎜1 - ─⎟     \n",
       "⎝    N⎠     \n",
       "────────────\n",
       "     N      "
      ]
     },
     "execution_count": 17,
     "metadata": {},
     "output_type": "execute_result"
    }
   ],
   "source": [
    "L = 1/N * (1 - 1/N)**(k - 1)\n",
    "L"
   ]
  },
  {
   "cell_type": "markdown",
   "metadata": {},
   "source": [
    "Геометрическое распределение"
   ]
  },
  {
   "cell_type": "markdown",
   "metadata": {},
   "source": [
    "### #2\n",
    "\n",
    "Представим, что у нас есть данные $X_1,\\dots{},X_n$ за n дней о том, с какой попытки Кате удалось открыть дверь.\n",
    "\n",
    "Запишите функцию правдоподобия такой выборки и возьмите от неё логарифм.\n",
    "\n",
    "Какое выражение у вас получилось?"
   ]
  },
  {
   "cell_type": "markdown",
   "metadata": {},
   "source": [
    "---"
   ]
  },
  {
   "cell_type": "markdown",
   "metadata": {},
   "source": [
    "Т.к. номер попытки k меняется каждый день, то для данной задачи она будет выглядеть как:"
   ]
  },
  {
   "cell_type": "code",
   "execution_count": 18,
   "metadata": {
    "collapsed": false
   },
   "outputs": [
    {
     "data": {
      "image/png": "[encoded data removed]",
      "text/latex": [
       "$$\\frac{1}{N} \\left(1 - \\frac{1}{N}\\right)^{X_{i} - 1}$$"
      ],
      "text/plain": [
       "       Xᵢ - 1\n",
       "⎛    1⎞      \n",
       "⎜1 - ─⎟      \n",
       "⎝    N⎠      \n",
       "─────────────\n",
       "      N      "
      ]
     },
     "execution_count": 18,
     "metadata": {},
     "output_type": "execute_result"
    }
   ],
   "source": [
    "1/N * (1 - 1/N)**(Xi - 1)"
   ]
  },
  {
   "cell_type": "code",
   "execution_count": 6,
   "metadata": {
    "collapsed": false
   },
   "outputs": [
    {
     "data": {
      "image/png": "[encoded data removed]",
      "text/latex": [
       "$$\\prod_{i=1}^{n} \\frac{1}{N} \\left(1 - \\frac{1}{N}\\right)^{X_{i} - 1}$$"
      ],
      "text/plain": [
       "      n                    \n",
       "┬───────────┬              \n",
       "│           │        Xᵢ - 1\n",
       "│           │ ⎛    1⎞      \n",
       "│           │ ⎜1 - ─⎟      \n",
       "│           │ ⎝    N⎠      \n",
       "│           │ ─────────────\n",
       "│           │       N      \n",
       "│           │              \n",
       "    i = 1                  "
      ]
     },
     "execution_count": 6,
     "metadata": {},
     "output_type": "execute_result"
    }
   ],
   "source": [
    "prod = sp.Product(1/N * (1 - 1/N)**(Xi - 1) , (i, 1, n))\n",
    "prod"
   ]
  },
  {
   "cell_type": "code",
   "execution_count": 7,
   "metadata": {
    "collapsed": false
   },
   "outputs": [
    {
     "data": {
      "image/png": "[encoded data removed]",
      "text/latex": [
       "$$\\left(\\left(1 - \\frac{1}{N}\\right)^{- n + \\sum_{i=0}^{n} X_{i}}\\right) \\left(\\frac{1}{N}\\right)^{n}$$"
      ],
      "text/plain": [
       "              n          \n",
       "             ___         \n",
       "             ╲           \n",
       "              ╲   Xᵢ     \n",
       "       -n +   ╱          \n",
       "             ╱           \n",
       "             ‾‾‾         \n",
       "            i = 0       n\n",
       "⎛    1⎞              ⎛1⎞ \n",
       "⎜1 - ─⎟             ⋅⎜─⎟ \n",
       "⎝    N⎠              ⎝N⎠ "
      ]
     },
     "execution_count": 7,
     "metadata": {},
     "output_type": "execute_result"
    }
   ],
   "source": [
    "LP = sp.product(1/N, (i, 1, n)) * (1-1/N)**(sp.Sum(Xi, (i, 0, n)) - n)\n",
    "LP"
   ]
  },
  {
   "cell_type": "code",
   "execution_count": 8,
   "metadata": {
    "collapsed": false
   },
   "outputs": [
    {
     "data": {
      "image/png": "[encoded data removed]",
      "text/latex": [
       "$$\\log{\\left (\\left(\\left(1 - \\frac{1}{N}\\right)^{- n + \\sum_{i=1}^{n} X_{i}}\\right) \\left(\\frac{1}{N}\\right)^{n} \\right )}$$"
      ],
      "text/plain": [
       "   ⎛              n          ⎞\n",
       "   ⎜             ___         ⎟\n",
       "   ⎜             ╲           ⎟\n",
       "   ⎜              ╲   Xᵢ     ⎟\n",
       "   ⎜       -n +   ╱          ⎟\n",
       "   ⎜             ╱           ⎟\n",
       "   ⎜             ‾‾‾         ⎟\n",
       "   ⎜            i = 1       n⎟\n",
       "   ⎜⎛    1⎞              ⎛1⎞ ⎟\n",
       "log⎜⎜1 - ─⎟             ⋅⎜─⎟ ⎟\n",
       "   ⎝⎝    N⎠              ⎝N⎠ ⎠"
      ]
     },
     "execution_count": 8,
     "metadata": {},
     "output_type": "execute_result"
    }
   ],
   "source": [
    "LL = sp.ln((1/N)**n * (1-1/N)**(sp.Sum(Xi, (i, 1, n)) - n))\n",
    "LL"
   ]
  },
  {
   "cell_type": "code",
   "execution_count": 9,
   "metadata": {
    "collapsed": false
   },
   "outputs": [
    {
     "data": {
      "image/png": "[encoded data removed]",
      "text/latex": [
       "$$n \\log{\\left (\\frac{1}{N} \\right )} + \\left(- n + \\sum_{i=1}^{n} X_{i}\\right) \\log{\\left (1 - \\frac{1}{N} \\right )}$$"
      ],
      "text/plain": [
       "           ⎛       n     ⎞           \n",
       "           ⎜      ___    ⎟           \n",
       "           ⎜      ╲      ⎟           \n",
       "     ⎛1⎞   ⎜       ╲   Xᵢ⎟    ⎛    1⎞\n",
       "n⋅log⎜─⎟ + ⎜-n +   ╱     ⎟⋅log⎜1 - ─⎟\n",
       "     ⎝N⎠   ⎜      ╱      ⎟    ⎝    N⎠\n",
       "           ⎜      ‾‾‾    ⎟           \n",
       "           ⎝     i = 1   ⎠           "
      ]
     },
     "execution_count": 9,
     "metadata": {},
     "output_type": "execute_result"
    }
   ],
   "source": [
    "LL2 = n*sp.ln(1/N) + (sp.Sum(Xi, (i, 1, n)) - n) * sp.ln(1 - 1/N)\n",
    "LL2"
   ]
  },
  {
   "cell_type": "markdown",
   "metadata": {},
   "source": [
    "За последние пять дней Кате удавалось открыть дверь с восьмой, двенадцатой, седьмой, шестой и снова двенадцатой попыток; давайте найдём оценку максимального правдоподобия для N. Подставьте эти числа в выражение для логарифма правдоподобия, продифференцируйте его по N и приравняйте к нулю. Из полученного уравнения выразите N. Итак, \\hat{N}_{ОМП}="
   ]
  },
  {
   "cell_type": "code",
   "execution_count": 10,
   "metadata": {
    "collapsed": false
   },
   "outputs": [
    {
     "data": {
      "image/png": "[encoded data removed]",
      "text/latex": [
       "$$\\left ( 45, \\quad 5\\right )$$"
      ],
      "text/plain": [
       "(45, 5)"
      ]
     },
     "execution_count": 10,
     "metadata": {},
     "output_type": "execute_result"
    }
   ],
   "source": [
    "att = [8, 12, 7, 6, 12]\n",
    "att_sum = sum(att)\n",
    "days = len(att)\n",
    "att_sum, days"
   ]
  },
  {
   "cell_type": "code",
   "execution_count": 11,
   "metadata": {
    "collapsed": false
   },
   "outputs": [
    {
     "data": {
      "image/png": "[encoded data removed]",
      "text/latex": [
       "$$5 \\log{\\left (\\frac{1}{N} \\right )} + 40 \\log{\\left (1 - \\frac{1}{N} \\right )}$$"
      ],
      "text/plain": [
       "     ⎛1⎞         ⎛    1⎞\n",
       "5⋅log⎜─⎟ + 40⋅log⎜1 - ─⎟\n",
       "     ⎝N⎠         ⎝    N⎠"
      ]
     },
     "execution_count": 11,
     "metadata": {},
     "output_type": "execute_result"
    }
   ],
   "source": [
    "LL3 = days*sp.ln(1/N) + (att_sum - days) * sp.ln(1 - 1/N)\n",
    "LL3"
   ]
  },
  {
   "cell_type": "code",
   "execution_count": 12,
   "metadata": {
    "collapsed": false
   },
   "outputs": [
    {
     "data": {
      "image/png": "[encoded data removed]",
      "text/latex": [
       "$$- \\frac{5}{N} + \\frac{40}{N^{2} \\left(1 - \\frac{1}{N}\\right)}$$"
      ],
      "text/plain": [
       "  5       40    \n",
       "- ─ + ──────────\n",
       "  N    2 ⎛    1⎞\n",
       "      N ⋅⎜1 - ─⎟\n",
       "         ⎝    N⎠"
      ]
     },
     "execution_count": 12,
     "metadata": {},
     "output_type": "execute_result"
    }
   ],
   "source": [
    "rs = sp.diff(LL3, N)\n",
    "rs"
   ]
  },
  {
   "cell_type": "code",
   "execution_count": 13,
   "metadata": {
    "collapsed": false
   },
   "outputs": [
    {
     "data": {
      "image/png": "[encoded data removed]",
      "text/latex": [
       "$$- \\frac{5}{N} + \\frac{40}{N^{2} \\left(1 - \\frac{1}{N}\\right)} = 0$$"
      ],
      "text/plain": [
       "  5       40        \n",
       "- ─ + ────────── = 0\n",
       "  N    2 ⎛    1⎞    \n",
       "      N ⋅⎜1 - ─⎟    \n",
       "         ⎝    N⎠    "
      ]
     },
     "execution_count": 13,
     "metadata": {},
     "output_type": "execute_result"
    }
   ],
   "source": [
    "eq = sp.Eq(rs, 0)\n",
    "eq"
   ]
  },
  {
   "cell_type": "code",
   "execution_count": 14,
   "metadata": {
    "collapsed": false,
    "scrolled": true
   },
   "outputs": [
    {
     "data": {
      "image/png": "[encoded data removed]",
      "text/latex": [
       "$$\\left [ 9\\right ]$$"
      ],
      "text/plain": [
       "[9]"
      ]
     },
     "execution_count": 14,
     "metadata": {},
     "output_type": "execute_result"
    }
   ],
   "source": [
    "sp.solve(eq, N)"
   ]
  },
  {
   "cell_type": "code",
   "execution_count": null,
   "metadata": {
    "collapsed": true
   },
   "outputs": [],
   "source": []
  }
 ],
 "metadata": {
  "kernelspec": {
   "display_name": "Python 2",
   "language": "python",
   "name": "python2"
  },
  "language_info": {
   "codemirror_mode": {
    "name": "ipython",
    "version": 2
   },
   "file_extension": ".py",
   "mimetype": "text/x-python",
   "name": "python",
   "nbconvert_exporter": "python",
   "pygments_lexer": "ipython2",
   "version": "2.7.10"
  }
 },
 "nbformat": 4,
 "nbformat_minor": 0
}
