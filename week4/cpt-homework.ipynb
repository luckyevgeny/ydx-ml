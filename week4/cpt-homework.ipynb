{
 "cells": [
  {
   "cell_type": "markdown",
   "metadata": {},
   "source": [
    "# Задача №1\n",
    "Для 2110 округов США известно число ненасильственных преступлений в год на сто тысяч населения; выборочное среднее этой величины X¯n=4850.56, выборочная дисперсия — S2=6568358.\n",
    "\n",
    "Считая, что число ненасильственных преступлений в год на сто тысяч населения имеет нормальное распределение, постройте приближённый 99.7% доверительный интервал для этой величины. Чему равен верхний доверительный предел? Округлите до одного знака после десятичной точки."
   ]
  },
  {
   "cell_type": "code",
   "execution_count": 45,
   "metadata": {
    "collapsed": true
   },
   "outputs": [],
   "source": [
    "xn=4850.65\n",
    "s2=6568358.0\n",
    "n=2110.0"
   ]
  },
  {
   "cell_type": "markdown",
   "metadata": {},
   "source": [
    "Т.к. приближение x = xn из теоремы центрального предела $\\overline{X}n \\approx \\sim N(E(X), \\frac{\\sigma{}^2}{n})$\n",
    "и того, что $E(X)=\\overline{X}_n$\n",
    "\n",
    "получаем 99.7% доверительные интервал:\n",
    "$$\n",
    "P(\\overline{X}_n - 3 \\sqrt{\\frac{\\sigma{}^2}{n}} \\leq x \\leq \\overline{X}_n + 3 \\sqrt{\\frac{\\sigma{}^2}{n}}) \\geq 1 - a \\approx{} 0.997\n",
    "$$"
   ]
  },
  {
   "cell_type": "markdown",
   "metadata": {},
   "source": [
    "Т.е. верхний предел будет равен"
   ]
  },
  {
   "cell_type": "code",
   "execution_count": 20,
   "metadata": {
    "collapsed": false
   },
   "outputs": [],
   "source": [
    "from __future__ import division\n",
    "from math import sqrt\n",
    "import numpy as np\n",
    "\n",
    "xn=4850.65\n",
    "s2=6568358.0\n",
    "n=2110.0"
   ]
  },
  {
   "cell_type": "code",
   "execution_count": 25,
   "metadata": {
    "collapsed": false
   },
   "outputs": [
    {
     "name": "stdout",
     "output_type": "stream",
     "text": [
      "12539.2924029\n"
     ]
    }
   ],
   "source": [
    "print xn + 3 * sqrt(s2) # должно получиться 12539.2"
   ]
  },
  {
   "cell_type": "markdown",
   "metadata": {},
   "source": [
    "# Задача №2\n",
    "Оцените значение параметра σ для нормального распределения, которым, согласно центральной предельной теореме, можно аппроксимировать распределение выборочного среднего величины из предыдущей задачи. Округлите ответ до двух знаков после десятичной точки.\n",
    "\n",
    "## Решение\n",
    "$$\n",
    "\\overline{\\sigma{}} = \\sqrt{D(\\overline{X}_n)} = \\sqrt{ \\frac{S^2}{n} } \\approx 55.79\n",
    "$$"
   ]
  },
  {
   "cell_type": "code",
   "execution_count": 47,
   "metadata": {
    "collapsed": false
   },
   "outputs": [
    {
     "data": {
      "text/plain": [
       "'55.79'"
      ]
     },
     "execution_count": 47,
     "metadata": {},
     "output_type": "execute_result"
    }
   ],
   "source": [
    "'%0.2f' % sqrt(s2/n)"
   ]
  },
  {
   "cell_type": "markdown",
   "metadata": {},
   "source": [
    "## Задача №3\n",
    "\n",
    "Постройте приближённый 99.7% доверительный интервал для среднего числа ненасильственных преступлений в год на сто тысяч населения. Чему равен верхний доверительный предел? Округлите до двух знаков после десятичной точки."
   ]
  },
  {
   "cell_type": "code",
   "execution_count": 24,
   "metadata": {
    "collapsed": false
   },
   "outputs": [
    {
     "name": "stdout",
     "output_type": "stream",
     "text": [
      "5018.03187743\n"
     ]
    }
   ],
   "source": [
    "print xn + 3 * sqrt(s2/2110.0) # должно получится 5017.94"
   ]
  },
  {
   "cell_type": "code",
   "execution_count": null,
   "metadata": {
    "collapsed": true
   },
   "outputs": [],
   "source": []
  }
 ],
 "metadata": {
  "kernelspec": {
   "display_name": "Python 2",
   "language": "python",
   "name": "python2"
  },
  "language_info": {
   "codemirror_mode": {
    "name": "ipython",
    "version": 2
   },
   "file_extension": ".py",
   "mimetype": "text/x-python",
   "name": "python",
   "nbconvert_exporter": "python",
   "pygments_lexer": "ipython2",
   "version": "2.7.10"
  }
 },
 "nbformat": 4,
 "nbformat_minor": 0
}
