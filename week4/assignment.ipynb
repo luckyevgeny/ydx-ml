{
 "cells": [
  {
   "cell_type": "markdown",
   "metadata": {},
   "source": [
    "# Проверика работы центральной предельной теоремы для F-распределения"
   ]
  },
  {
   "cell_type": "markdown",
   "metadata": {},
   "source": [
    "Если случайные величины $U \\sim X_m^2$ и $V \\sim X_n^2$ - независимы, то случайная величина\n",
    "\n",
    "$$\n",
    "F_{\\frac{m}{n}} = \\frac{ \\frac{1}{m}U }{ \\frac{1}{n}V }\n",
    "$$\n",
    "имеет распределение Фишера.\n",
    "\n",
    "Дальше я рассматриваю, ситуацию когда степени свободы числителя и знаменателя равы."
   ]
  },
  {
   "cell_type": "code",
   "execution_count": 1,
   "metadata": {
    "collapsed": false
   },
   "outputs": [
    {
     "name": "stdout",
     "output_type": "stream",
     "text": [
      "Populating the interactive namespace from numpy and matplotlib\n"
     ]
    }
   ],
   "source": [
    "%pylab inline"
   ]
  },
  {
   "cell_type": "code",
   "execution_count": 2,
   "metadata": {
    "collapsed": false
   },
   "outputs": [],
   "source": [
    "# импортируем, что понадобится дальше\n",
    "from __future__ import division\n",
    "\n",
    "from collections import defaultdict\n",
    "\n",
    "import numpy as np\n",
    "from scipy import stats\n",
    "from matplotlib import pyplot as plt"
   ]
  },
  {
   "cell_type": "markdown",
   "metadata": {},
   "source": [
    "### Часть 1"
   ]
  },
  {
   "cell_type": "code",
   "execution_count": 3,
   "metadata": {
    "collapsed": false
   },
   "outputs": [
    {
     "data": {
      "text/plain": [
       "<matplotlib.legend.Legend at 0x10f50f5d0>"
      ]
     },
     "execution_count": 3,
     "metadata": {},
     "output_type": "execute_result"
    },
    {
     "data": {
      "image/png": "[encoded data removed]",
      "text/plain": [
       "<matplotlib.figure.Figure at 0x10f46e510>"
      ]
     },
     "metadata": {},
     "output_type": "display_data"
    }
   ],
   "source": [
    "# Задаём степени свободы\n",
    "m = 7\n",
    "n = 7\n",
    "\n",
    "# зададим случайную величину распределённую по распределению Фишера\n",
    "f_rv = stats.f(m, n, loc=0, scale=1)\n",
    "\n",
    "# сгенерируем 100 значений\n",
    "data = f_rv.rvs(size=1000)\n",
    "\n",
    "# шкала для pdf с шагом 100, что бы было гладенько, ppf что бы\n",
    "# не двигать шкалу вручную при изменении степеней свободы\n",
    "x = np.linspace(0.001, f_rv.ppf(0.99), 100, 'b')\n",
    "\n",
    "# Рисуем нормированную гистограмму \n",
    "plt.hist(data, bins=30, normed=True, label='emp. pdf(x)')\n",
    "\n",
    "# и теоретическую ф-ю плотности поверх неё\n",
    "plt.plot(x, f_rv.pdf(x), 'r', lw=2, label='theo. pdf(x)')\n",
    "\n",
    "# подписываем оси\n",
    "plt.ylabel('$f(x)$')\n",
    "plt.xlabel('$x$')\n",
    "plt.legend(loc='best')"
   ]
  },
  {
   "cell_type": "markdown",
   "metadata": {},
   "source": [
    "### Часть 2"
   ]
  },
  {
   "cell_type": "code",
   "execution_count": 4,
   "metadata": {
    "collapsed": false
   },
   "outputs": [],
   "source": [
    "# для значений ni (5, 10, 50) сгенерируйте cnt (1000) выборок объёма ni\n",
    "ni = (5, 10, 50)\n",
    "cnt = 100\n",
    "\n",
    "res = defaultdict(lambda: [])\n",
    "\n",
    "for i in ni:\n",
    "    for j in range(cnt):\n",
    "        data = f_rv.rvs(size=i)\n",
    "        # получаем выборочное среднее\n",
    "        # расчитанное как sum(x)/n и\n",
    "        # добавлям с писку для соответствующей\n",
    "        # группы выборок объёма i\n",
    "        res[i].append(data.mean())"
   ]
  },
  {
   "cell_type": "markdown",
   "metadata": {},
   "source": [
    "#### Гистограмма выборочных средних для ni=5"
   ]
  },
  {
   "cell_type": "code",
   "execution_count": 5,
   "metadata": {
    "collapsed": false
   },
   "outputs": [
    {
     "data": {
      "text/plain": [
       "<matplotlib.text.Text at 0x10f934c50>"
      ]
     },
     "execution_count": 5,
     "metadata": {},
     "output_type": "execute_result"
    },
    {
     "data": {
      "image/png": "[encoded data removed]",
      "text/plain": [
       "<matplotlib.figure.Figure at 0x10e06d710>"
      ]
     },
     "metadata": {},
     "output_type": "display_data"
    }
   ],
   "source": [
    "f, axi = plt.subplots(len(ni), sharex=True)\n",
    "\n",
    "for i, ax in zip(ni, axi):\n",
    "    ax.hist(res[i], bins=20)\n",
    "\n",
    "plt.ylabel('$f(x)$')\n",
    "plt.xlabel('$x$')"
   ]
  },
  {
   "cell_type": "markdown",
   "metadata": {},
   "source": [
    "#### Математическое ожидание и дисперсия F-распределения\n",
    "Они выражаются формулами:\n",
    "\n",
    "$$\n",
    "E(F_{\\frac{m}{n>2}})=\\frac{n}{n-2}\n",
    "$$\n",
    "для мат. ожидания и\n",
    "$$\n",
    "D(F_{ \\frac{m}{n>4} })=\\frac{2n^2(m+n-2)}{m(n-2)^2(n-4)}\n",
    "$$\n",
    "дисперсии."
   ]
  },
  {
   "cell_type": "code",
   "execution_count": 6,
   "metadata": {
    "collapsed": false
   },
   "outputs": [],
   "source": [
    "ex = n/(n-2)\n",
    "df = (2 * n ** 2 * (m + n - 2))/(m * (n-2)**2 * (n-4))"
   ]
  },
  {
   "cell_type": "markdown",
   "metadata": {},
   "source": [
    "Теперь проверим, что я умею считать"
   ]
  },
  {
   "cell_type": "code",
   "execution_count": 7,
   "metadata": {
    "collapsed": false
   },
   "outputs": [
    {
     "name": "stdout",
     "output_type": "stream",
     "text": [
      "E(X) 1.40 == 1.40\n",
      "D(X) 2.24 == 2.24\n"
     ]
    }
   ],
   "source": [
    "print 'E(X) %0.2f == %0.2f' % (ex, f_rv.mean())\n",
    "print 'D(X) %0.2f == %0.2f' % (df, f_rv.std() ** 2)"
   ]
  },
  {
   "cell_type": "markdown",
   "metadata": {},
   "source": [
    "так же это можно проконтролировать по первому графику.\n",
    "\n",
    "Так как $\\overline{X_i} \\approx \\sim N(\\mu, \\frac{\\sigma}{\\sqrt(n)})$, то по известным математическому ожиданию и дисперсии исходного распределения получаем слудующие параметры нормальных распределений для средних:\n",
    "\n",
    "$$\n",
    "E(\\overline{X_5}) = E(X) = 1.40; D(\\overline{X_5}) = \\frac{D(X)}{5} = 0.448 \\\\\n",
    "E(\\overline{X_{10}}) = E(X) = 1.40; D(\\overline{X_10}) = \\frac{D(X)}{10} = 0.224 \\\\\n",
    "E(\\overline{X_{50}}) = E(X) = 1.40; D(\\overline{X_50}) = \\frac{D(X)}{50} = 0.048\n",
    "$$\n",
    "\n",
    "или тоже самое на питон:"
   ]
  },
  {
   "cell_type": "code",
   "execution_count": 8,
   "metadata": {
    "collapsed": false
   },
   "outputs": [],
   "source": [
    "sexi = [f_rv.mean(), f_rv.mean(), f_rv.mean()]\n",
    "sdxi = [f_rv.std()**2/5, f_rv.std()**2/10, f_rv.std()**2/50]"
   ]
  },
  {
   "cell_type": "markdown",
   "metadata": {},
   "source": [
    "Строим гистограммы средних рисуем плотности нормальных распределений"
   ]
  },
  {
   "cell_type": "code",
   "execution_count": 9,
   "metadata": {
    "collapsed": false
   },
   "outputs": [
    {
     "data": {
      "text/plain": [
       "<matplotlib.text.Text at 0x10fc6f490>"
      ]
     },
     "execution_count": 9,
     "metadata": {},
     "output_type": "execute_result"
    },
    {
     "data": {
      "image/png": "[encoded data removed]",
      "text/plain": [
       "<matplotlib.figure.Figure at 0x10faea410>"
      ]
     },
     "metadata": {},
     "output_type": "display_data"
    }
   ],
   "source": [
    "f, axi = plt.subplots(len(ni), sharex=True)\n",
    "\n",
    "for i, ax, exi, dxi in zip(ni, axi, sexi, sdxi):\n",
    "    ax.hist(res[i], bins=20, normed=True)\n",
    "\n",
    "    # рисуем плотность нормального распределения\n",
    "    norm_rv = stats.norm(loc=exi, scale=sqrt(dxi))\n",
    "    \n",
    "    x = np.linspace(norm_rv.ppf(0.001), norm_rv.ppf(0.999), 100)\n",
    "    ax.plot(x, norm_rv.pdf(x), 'r', lw=2)\n",
    "    ax.set_title('$f(\\overline{x_{%d}})$' % i)\n",
    "\n",
    "plt.ylabel('$f(x)$')\n",
    "plt.xlabel('$\\overline{x_i}$')"
   ]
  },
  {
   "cell_type": "markdown",
   "metadata": {},
   "source": [
    "### Выводы\n",
    "Несмотря на то, что ф-я плотности распределения Фишера со степенями свободы m=n=7 явно скошена, с ростом объёма выборки уже получается неплохо аппроксимировать плотность стандартных выборочных.\n",
    "А учитыва, что если степень знаменателя $n \\rightarrow \\infty$, то распределение Фишера асимптотически нормально, то при достаточно больших значениях результат будет ещё лучьше."
   ]
  },
  {
   "cell_type": "code",
   "execution_count": null,
   "metadata": {
    "collapsed": true
   },
   "outputs": [],
   "source": []
  }
 ],
 "metadata": {
  "kernelspec": {
   "display_name": "Python 2",
   "language": "python",
   "name": "python2"
  },
  "language_info": {
   "codemirror_mode": {
    "name": "ipython",
    "version": 2
   },
   "file_extension": ".py",
   "mimetype": "text/x-python",
   "name": "python",
   "nbconvert_exporter": "python",
   "pygments_lexer": "ipython2",
   "version": "2.7.10"
  }
 },
 "nbformat": 4,
 "nbformat_minor": 0
}
