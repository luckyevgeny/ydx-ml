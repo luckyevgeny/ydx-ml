{
 "cells": [
  {
   "cell_type": "markdown",
   "metadata": {},
   "source": [
    "## Вероятность\n",
    "#### Задача №1\n",
    "\n",
    "В следующей таблице представлены данные о совместимости групп крови при переливании плазмы:\n",
    "\n",
    "|       | O(I) | A(II) | B(III) | AB(IV) |\n",
    "|-------|------|-------|--------|--------|\n",
    "| O(I)\t| +    | +     | +      | +      |\n",
    "| A(II)\t| -    | +     | -      | +      |\n",
    "| B(III)| -    | -     | +      | +      |\n",
    "| AB(IV)| -    | -     | -      | +      |\n",
    "\n",
    "В ячейке стоит плюс, если плазму донора из названия столбца можно переливать рецепиенту из названия строки. Так, плазму четвёртой группы можно переливать всем, а плазму первой — только носителям первой группы.\n",
    "\n",
    "Среди жителей Австралии группы крови распределены следующим образом:\n",
    "\n",
    "P(I)=0.49, P(II)=0.38, P(III)=0.1, P(IV)=0.03.\n",
    "\n",
    "Какова вероятность того, что плазму одного случайно выбранного австралийца можно перелить другому случайно выбранному австралийцу?"
   ]
  },
  {
   "cell_type": "code",
   "execution_count": 1,
   "metadata": {
    "collapsed": true
   },
   "outputs": [],
   "source": [
    "p1 = 0.49\n",
    "p2 = 0.38\n",
    "p3 = 0.1\n",
    "p4 = 0.03"
   ]
  },
  {
   "cell_type": "markdown",
   "metadata": {},
   "source": [
    "из свойства полной вероя"
   ]
  },
  {
   "cell_type": "code",
   "execution_count": 2,
   "metadata": {
    "collapsed": false
   },
   "outputs": [
    {
     "data": {
      "text/plain": [
       "0.6597000000000001"
      ]
     },
     "execution_count": 2,
     "metadata": {},
     "output_type": "execute_result"
    }
   ],
   "source": [
    "(p1*p1) + (p2*p1) + (p2*p2) + (p3*p1) + (p3*p3) + (p4*p1) + (p4*p2) + (p4*p3) + (p4*p4)"
   ]
  },
  {
   "cell_type": "markdown",
   "metadata": {},
   "source": [
    "#### Задача №2\n",
    "Предположим, что в некоторой популяции до 60 лет доживает 50%, а до 80 лет — 20%. Какова вероятность, что случайно выбранный шестидесятилетний представитель популяции доживёт до восьмидесяти?"
   ]
  },
  {
   "cell_type": "markdown",
   "metadata": {},
   "source": [
    "#### Решение\n",
    "Так как для того что бы дожить до 80 (событие B) лет для начала нужно обязательно дожить до 60 (событие A) [множество B - это подмножество A], то их пересечение\n",
    "\n",
    "$$\n",
    "P(BA) = 0.2\n",
    "$$\n",
    "\n",
    "Таким образом\n",
    "$$\n",
    "P_A(B) = \\frac{P(BA)} {P(A)} = \\frac{0.2}{0.5} = 0.4\n",
    "$$"
   ]
  },
  {
   "cell_type": "code",
   "execution_count": 3,
   "metadata": {
    "collapsed": false
   },
   "outputs": [
    {
     "data": {
      "text/plain": [
       "0.4"
      ]
     },
     "execution_count": 3,
     "metadata": {},
     "output_type": "execute_result"
    }
   ],
   "source": [
    "p_60 = 0.5\n",
    "p_80 = 0.2\n",
    "p_60_80 = p_80\n",
    "p_60_80 / p_60"
   ]
  },
  {
   "cell_type": "markdown",
   "metadata": {},
   "source": [
    "### Полная вероятность несовместных событий\n",
    "#### Задача №1\n",
    "\n",
    "В магазин для продажи постапают продукты 3х фабрик.\n",
    "1 - 50%; 2 - 30%; 3 - 20%. Для продукции фабрик брак составляет соответственно 2%, 3%, 5%.\n",
    "Какова вероятность, что случайно выбранное изделие будет без брака?"
   ]
  },
  {
   "cell_type": "markdown",
   "metadata": {},
   "source": [
    "$H_1$ - взяли продукт первой файбрики;\n",
    "$H_2$ - продукт второй файбрики;\n",
    "$H_3$ - продукт третьей файбрики."
   ]
  },
  {
   "cell_type": "markdown",
   "metadata": {},
   "source": [
    "Система этих событий полная."
   ]
  },
  {
   "cell_type": "code",
   "execution_count": 4,
   "metadata": {
    "collapsed": true
   },
   "outputs": [],
   "source": [
    "p_h1 = 0.5\n",
    "p_h2 = 0.3\n",
    "p_h3 = 0.2"
   ]
  },
  {
   "cell_type": "code",
   "execution_count": 5,
   "metadata": {
    "collapsed": false
   },
   "outputs": [
    {
     "name": "stdout",
     "output_type": "stream",
     "text": [
      "Otvet: 0.971\n"
     ]
    }
   ],
   "source": [
    "print 'Otvet:', p_h1 * (1 - 0.02) + p_h2 * (1 - 0.03) + p_h3 * (1 - 0.05)"
   ]
  },
  {
   "cell_type": "markdown",
   "metadata": {},
   "source": [
    "#### Задача №2.\n",
    "В супермаркете 60% яблок из Турции и 40% яблок из Индии. 10% турецких и 15% индийских яблок — червивые. Какова вероятность, что яблоко, купленное в этом магазине, окажется червивым?"
   ]
  },
  {
   "cell_type": "code",
   "execution_count": 6,
   "metadata": {
    "collapsed": true
   },
   "outputs": [],
   "source": [
    "p_a = 0.6 # вероятность выбрать яблоко из Турции.\n",
    "p_b = 0.4 # вероятность выбрать яблоко из Индии.\n",
    "p_a_gn = 0.1 # червивых из Турции\n",
    "p_b_gn = 0.15 # червивых из Индии"
   ]
  },
  {
   "cell_type": "code",
   "execution_count": 7,
   "metadata": {
    "collapsed": false
   },
   "outputs": [
    {
     "data": {
      "text/plain": [
       "0.12"
      ]
     },
     "execution_count": 7,
     "metadata": {},
     "output_type": "execute_result"
    }
   ],
   "source": [
    "# Вероятность того, что яблоко купленное в этом магазине окажется червивым:\n",
    "p_a * p_a_gn + p_b * p_b_gn"
   ]
  },
  {
   "cell_type": "markdown",
   "metadata": {},
   "source": [
    "𝖯(B)=𝖯(B∣∣A)𝖯(A)+𝖯(B∣∣A¯)𝖯(A¯)=0.1⋅0.6 + 0.4⋅0.15 = 0.12."
   ]
  },
  {
   "cell_type": "markdown",
   "metadata": {},
   "source": [
    "### Формула Байеса\n",
    "#### Задача №1\n",
    "Представьте, что вы купили яблоко в магазине из предыдущей задачи, и оно оказалось червивым. Какова вероятность того, что оно из Турции, а не из Индии?"
   ]
  },
  {
   "cell_type": "markdown",
   "metadata": {},
   "source": [
    "$H_1$ и $H_2$ - несовместные события получения яблок из Турции или из Индии. Событие $A$ - это выборка гнилого яблока.\n",
    "Из формуля умножения вероятностей известно:\n",
    "$$ P(AH_i) = P(A) \\times P_A(H_i) $$\n",
    "по правилу умножения так же следует что\n",
    "$$ P(A) \\times P_A(H_i) = P(H_i) \\times P_{H_i}(A) (1) $$\n",
    "\n",
    "По условию задачи нужно определить чему будет равняться событие, что выбранное червивое яблоко из турции. Т.е. $H_1$ при условии $A$. Таким образом из формулы (1) имеем:\n",
    "$$\n",
    "P_A(H_1) = \\frac{P(H_i) \\times P_{H_i}(A)}{P(A)}\n",
    "$$\n",
    "Поученная формула есть ни что иное как формула Байеса.\n",
    "$$\n",
    "P_A(H_i) = \\frac{ P(AH_i) } { P(A) } = \\frac{ P(H_i) \\times P_{H_i}(A) } { P(A) }\n",
    "$$"
   ]
  },
  {
   "cell_type": "code",
   "execution_count": 8,
   "metadata": {
    "collapsed": false
   },
   "outputs": [],
   "source": [
    "p_poln = p_a * p_a_gn + p_b * p_b_gn"
   ]
  },
  {
   "cell_type": "code",
   "execution_count": 9,
   "metadata": {
    "collapsed": false
   },
   "outputs": [
    {
     "name": "stdout",
     "output_type": "stream",
     "text": [
      "Gniloe iz turzhii 0.5\n"
     ]
    }
   ],
   "source": [
    "print 'Gniloe iz turzhii', (p_a * p_a_gn) / p_poln"
   ]
  },
  {
   "cell_type": "markdown",
   "metadata": {},
   "source": [
    "#### Задача №2\n",
    "Вероятность поражения самолёта при одиночном выстреле для 1-го ракетного расчёта (событие А) равна 0.2, а для 2-го (событие B) - 0.1. Каждое из орудий производит по одному выстрелу, причём зарегистрированно одно попадание в самолёт (событие C). Какова вероятность, что удачный выстрел принадлежит первому расчёту?"
   ]
  },
  {
   "cell_type": "markdown",
   "metadata": {},
   "source": [
    "Перечислим все гипотезы составляющие полную группу событий: H1=AB; H2=AnB; H3=bAB; H4=nAnB;\n",
    "Их вероятности:\n",
    "\n",
    "$$\n",
    "H_1=0.2 \\cdot 0.1 = 0.02 \\\\\n",
    "H_2=0.2 \\cdot (1-0.1) = 0.18 \\\\\n",
    "H_3=(1-0.2) \\cdot 0.1 = 0.08 \\\\\n",
    "H_4=(1-0.2) \\cdot (1-0.1) = 0.72\n",
    "$$\n",
    "\n",
    "Условные вероятности при этом будут: $P_{H_1}(C) = 0;\n",
    "P_{H_2}(C) = 1;\n",
    "P_{H_3}(C) = 1;\n",
    "P_{H_4}(C) = 0;$\n",
    "\n",
    "Значения 0 т.к. зарегистрировано было только одно попадание, а не два одновременно.\n",
    "\n",
    "$P_C(H_2)=\\frac{0.18 \\cdot 1}{ 0.18 \\cdot 1 + 0.08 \\cdot 1} = 0.7$"
   ]
  },
  {
   "cell_type": "markdown",
   "metadata": {
    "collapsed": true
   },
   "source": [
    "#### Задача №3\n",
    "1% женщин больны раком груди. У 80% женщин, больных раком груди, маммограмма верно выявляет наличие заболевания; кроме того, она даёт ложный положительный результат (то есть, неверно показывает наличие рака) для 9.6% здоровых женщин.\n",
    "\n",
    "У какого процента женщин, маммограмма которых дала положительный результат, есть рак груди? Запишите ответ с точностью до одного знака после десятичной точки (знак процента не нужен)."
   ]
  },
  {
   "cell_type": "markdown",
   "metadata": {},
   "source": [
    "##### Решение\n",
    "Примем следующие обозначения:\n",
    "\n",
    " $D$ - что женщина болеет раком груди\n",
    " \n",
    " $T$ - что тест положительный\n",
    " \n",
    " $\\overline{D}$ - не болеет раком\n",
    " \n",
    " $\\overline{T}$ - тест отрецательный\n",
    " \n",
    "Из условия задачи вероятности болезни и отсутствия заболеваний:\n",
    "$$\n",
    "P(D) = 0.01\n",
    "$$\n",
    "\n",
    "так же по условию задачи: $P_D(T) = 0.8$ больных получили положительный результат теста; и для $P_{\\overline{D}}(T) = 0.096$ он был ложноположительным.\n",
    "\n",
    "В этих обозначениях нужно найти:\n",
    "$$\n",
    "P_T(D) = \\frac{P(D) \\cdot P_D(T)}{ P(D) \\cdot P_D(T) + P(\\overline{D}) \\cdot P_{\\overline{D}}(T) } \n",
    "$$\n",
    "так как\n",
    "$$\n",
    "P(\\overline{D}) = 1 - P(D) = 1 - 0.01 = 0.99\n",
    "$$\n",
    "получаем:\n",
    "$$\n",
    "P_T(D) = \\frac{0.01 \\cdot 0.8}{0.01 \\cdot 0.8 + 0.99 \\cdot 0.096}\n",
    "$$"
   ]
  },
  {
   "cell_type": "code",
   "execution_count": 10,
   "metadata": {
    "collapsed": false
   },
   "outputs": [
    {
     "name": "stdout",
     "output_type": "stream",
     "text": [
      "0.0776397515528 7.8%\n"
     ]
    }
   ],
   "source": [
    "p_d = 0.01\n",
    "p_nd = 1 - p_d\n",
    "p_td = 0.8\n",
    "p_tnd = 0.096\n",
    "\n",
    "p_dt = (p_d*p_td) / (p_d*p_td + p_nd*p_tnd)\n",
    "print p_dt, '%0.1f%%' % (p_dt * 100)"
   ]
  },
  {
   "cell_type": "markdown",
   "metadata": {},
   "source": [
    "#### Задача №4\n",
    "Какова вероятность того, что при независимом подбрасывании двух симметричных шестигранных кубиков хотя бы на одном из них выпадет больше трёх очков? Запишите точный ответ в виде десятичной дроби."
   ]
  },
  {
   "cell_type": "markdown",
   "metadata": {},
   "source": [
    "##### Решение\n",
    "A - на первом кубеке выпадают числа 4, 5 или 6\n",
    "B - на первом кубеке выпадают числа 4, 5 или 6\n",
    "Таким образом:\n",
    "$$\n",
    "P(A) = \\frac{3}{6} \\\\\n",
    "P(B) = \\frac{3}{6}\n",
    "$$\n",
    "\n",
    "C - событие, что хотя бы на одном из кубиков выпадет 4, 5 или 6.\n",
    "\n",
    "Т.к. события независимы и совместны можно получить решение одном из следующих способов:\n",
    "$$\n",
    "P(C) = P(A + B) = P(A) + P(B) - P(AB) \\\\\n",
    "P(AB) = P(A) \\cdot P_A(B) = P_B(A) \\cdot P(B) \\\\\n",
    "P(B) = P_A(B) \\\\\n",
    "P(A) = P_B(A) \\\\\n",
    "P(AB) = P(A) \\cdot P(B) = \\frac{3}{6} \\cdot \\frac{3}{6} = \\frac{9}{36} = 0.25 \\\\\n",
    "P(C) = \\frac{3}{6} + \\frac{3}{6} - 0.25 = 1 - 0.25 = 0.75\n",
    "$$\n",
    "\n",
    "или\n",
    "\n",
    "$$\n",
    "P(\\neg C) = P(\\neg A) \\cdot P(\\neg B) = (1 - P(A)) \\cdot (1 - P(B)) = \\frac{3}{6} \\cdot \\frac{3}{6} = \\frac{9}{36} = 0.25 \\\\\n",
    "P(C) = 1 - P(\\neg C) = 1 - 0.25 = 0.75\n",
    "$$"
   ]
  },
  {
   "cell_type": "markdown",
   "metadata": {
    "collapsed": true
   },
   "source": [
    "# Распределения"
   ]
  },
  {
   "cell_type": "markdown",
   "metadata": {},
   "source": [
    "## Задача №1\n",
    "Чему равна вероятность попасть в баскетбольное кольцо 1 раз из 10, если вероятность попадания равна 0.2\n",
    "\n",
    "Распределение Bin(n, p) - это проведение 15 независимых испытаний Бернулли, в каждом из которых вероятность успеха равна p.\n",
    "$$\n",
    "P\\{X=k\\} = C_n^k p^k (1-p)^{n-k}\n",
    "$$\n",
    "из чего следует, что для k=n\n",
    "$$\n",
    "P\\{X=n\\} = C_n^n p^n (1-p)^{n-n} = \\frac{n!}{n!(n-n)!} p^n (1-p)^{n-n} = p^n\n",
    "$$"
   ]
  },
  {
   "cell_type": "code",
   "execution_count": 11,
   "metadata": {
    "collapsed": true
   },
   "outputs": [],
   "source": [
    "from __future__ import division\n",
    "from math import factorial as fact"
   ]
  },
  {
   "cell_type": "code",
   "execution_count": 12,
   "metadata": {
    "collapsed": false
   },
   "outputs": [],
   "source": [
    "n = 10\n",
    "k = 1\n",
    "p = 0.2"
   ]
  },
  {
   "cell_type": "code",
   "execution_count": 13,
   "metadata": {
    "collapsed": false
   },
   "outputs": [
    {
     "data": {
      "text/plain": [
       "'0.27'"
      ]
     },
     "execution_count": 13,
     "metadata": {},
     "output_type": "execute_result"
    }
   ],
   "source": [
    "res = fact(n)/(fact(1) * fact(n - k)) * p**k * (1 - p)**(n-k)\n",
    "'%0.2f' % res"
   ]
  },
  {
   "cell_type": "markdown",
   "metadata": {
    "collapsed": true
   },
   "source": [
    "## Теорема центральных пределов"
   ]
  },
  {
   "cell_type": "code",
   "execution_count": 14,
   "metadata": {
    "collapsed": false
   },
   "outputs": [
    {
     "name": "stdout",
     "output_type": "stream",
     "text": [
      "Populating the interactive namespace from numpy and matplotlib\n"
     ]
    }
   ],
   "source": [
    "%pylab inline\n",
    "from __future__ import division\n",
    "import pandas as pd\n",
    "import numpy as np\n",
    "import matplotlib.pyplot as plt\n",
    "import scipy.stats as sts\n",
    "\n",
    "import matplotlib as mp\n",
    "mp.rcParams['font.family'] = 'sans-serif'\n",
    "mp.rcParams['font.sans-serif'] = ['Tahoma']"
   ]
  },
  {
   "cell_type": "code",
   "execution_count": 15,
   "metadata": {
    "collapsed": false
   },
   "outputs": [],
   "source": [
    "bin_rv = sts.binom(15, 0.4)"
   ]
  },
  {
   "cell_type": "markdown",
   "metadata": {},
   "source": [
    "Для этой выборки я могу посчитать выборочное среднее (sample mean) $\\overline{X}$, выборочное стандартное отклонение (s)  "
   ]
  },
  {
   "cell_type": "code",
   "execution_count": 16,
   "metadata": {
    "collapsed": false
   },
   "outputs": [
    {
     "name": "stdout",
     "output_type": "stream",
     "text": [
      "6.80 6.80\n",
      "1.93 1.93\n"
     ]
    }
   ],
   "source": [
    "data = bin_rv.rvs(10)\n",
    "\n",
    "mean = sum(data) / 10\n",
    "std = sqrt(sum(map(lambda x: (x-mean)**2, data))/(10 - 1))\n",
    "\n",
    "print '%0.2f %0.2f' % (mean, data.mean())\n",
    "print '%0.2f %0.2f' % (std, data.std(ddof=1))"
   ]
  },
  {
   "cell_type": "code",
   "execution_count": 17,
   "metadata": {
    "collapsed": false
   },
   "outputs": [
    {
     "data": {
      "text/plain": [
       "<matplotlib.text.Text at 0x113b55f90>"
      ]
     },
     "execution_count": 17,
     "metadata": {},
     "output_type": "execute_result"
    },
    {
     "data": {
      "image/png": "[encoded data removed]",
      "text/plain": [
       "<matplotlib.figure.Figure at 0x110423f90>"
      ]
     },
     "metadata": {},
     "output_type": "display_data"
    }
   ],
   "source": [
    "x = np.linspace(0,20,40)\n",
    "plt.hist(bin_rv.rvs(10000000), bins=10)\n",
    "\n",
    "plt.ylabel('$F(x)$')\n",
    "plt.xlabel('$x$')"
   ]
  }
 ],
 "metadata": {
  "kernelspec": {
   "display_name": "Python 2",
   "language": "python",
   "name": "python2"
  },
  "language_info": {
   "codemirror_mode": {
    "name": "ipython",
    "version": 2
   },
   "file_extension": ".py",
   "mimetype": "text/x-python",
   "name": "python",
   "nbconvert_exporter": "python",
   "pygments_lexer": "ipython2",
   "version": "2.7.10"
  }
 },
 "nbformat": 4,
 "nbformat_minor": 0
}
