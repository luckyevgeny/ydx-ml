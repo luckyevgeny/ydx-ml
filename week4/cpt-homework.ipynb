{
 "cells": [
  {
   "cell_type": "markdown",
   "metadata": {},
   "source": [
    "# Задача №1\n",
    "Для 2110 округов США известно число ненасильственных преступлений в год на сто тысяч населения; выборочное среднее этой величины X¯n=4850.56, выборочная дисперсия — S2=6568358.\n",
    "\n",
    "Считая, что число ненасильственных преступлений в год на сто тысяч населения имеет нормальное распределение, постройте приближённый 99.7% доверительный интервал для этой величины. Чему равен верхний доверительный предел? Округлите до одного знака после десятичной точки."
   ]
  },
  {
   "cell_type": "markdown",
   "metadata": {},
   "source": [
    "Т.к. приближение x = xn из теоремы центрального предела $\\overline{X}n \\approx \\sim N(E(X), \\frac{\\sigma{}^2}{n})$\n",
    "и того, что $E(X)=\\overline{X}_n$\n",
    "\n",
    "получаем 99.7% доверительные интервал:\n",
    "$$\n",
    "P(\\overline{X}_n - 3 \\sqrt{\\frac{\\sigma{}^2}{n}} \\leq x \\leq \\overline{X}_n + 3 \\sqrt{\\frac{\\sigma{}^2}{n}}) \\geq 1 - a \\approx{} 0.997\n",
    "$$"
   ]
  },
  {
   "cell_type": "markdown",
   "metadata": {},
   "source": [
    "Т.е. верхний предел будет равен"
   ]
  },
  {
   "cell_type": "code",
   "execution_count": 3,
   "metadata": {
    "collapsed": false
   },
   "outputs": [],
   "source": [
    "from __future__ import division\n",
    "from math import sqrt\n",
    "import numpy as np\n",
    "\n",
    "xn=4850.56\n",
    "s2=6568358.0\n",
    "n=2110.0"
   ]
  },
  {
   "cell_type": "code",
   "execution_count": 4,
   "metadata": {
    "collapsed": false
   },
   "outputs": [
    {
     "name": "stdout",
     "output_type": "stream",
     "text": [
      "12539.2024029\n"
     ]
    }
   ],
   "source": [
    "print xn + 3 * sqrt(s2) # должно получиться 12539.2"
   ]
  },
  {
   "cell_type": "markdown",
   "metadata": {},
   "source": [
    "# Задача №2\n",
    "Оцените значение параметра σ для нормального распределения, которым, согласно центральной предельной теореме, можно аппроксимировать распределение выборочного среднего величины из предыдущей задачи. Округлите ответ до двух знаков после десятичной точки.\n",
    "\n",
    "## Решение\n",
    "$$\n",
    "\\overline{\\sigma{}} = \\sqrt{D(\\overline{X}_n)} = \\sqrt{ \\frac{S^2}{n} } \\approx 55.79\n",
    "$$"
   ]
  },
  {
   "cell_type": "code",
   "execution_count": 47,
   "metadata": {
    "collapsed": false
   },
   "outputs": [
    {
     "data": {
      "text/plain": [
       "'55.79'"
      ]
     },
     "execution_count": 47,
     "metadata": {},
     "output_type": "execute_result"
    }
   ],
   "source": [
    "'%0.2f' % sqrt(s2/n)"
   ]
  },
  {
   "cell_type": "markdown",
   "metadata": {},
   "source": [
    "## Задача №3\n",
    "\n",
    "Постройте приближённый 99.7% доверительный интервал для среднего числа ненасильственных преступлений в год на сто тысяч населения. Чему равен верхний доверительный предел? Округлите до двух знаков после десятичной точки."
   ]
  },
  {
   "cell_type": "code",
   "execution_count": 56,
   "metadata": {
    "collapsed": false
   },
   "outputs": [
    {
     "name": "stdout",
     "output_type": "stream",
     "text": [
      "5018.03187743\n"
     ]
    }
   ],
   "source": [
    "print xn + 3.0 * sqrt(s2/2110.0) # должно получится 5017.94"
   ]
  },
  {
   "cell_type": "markdown",
   "metadata": {
    "collapsed": true
   },
   "source": [
    "### Задача №4"
   ]
  },
  {
   "cell_type": "markdown",
   "metadata": {},
   "source": [
    "40 испытуемых из которых 62.5% любят новый ролик. А оставшиеся видимо не любят. Построить 95 процентный интервал."
   ]
  },
  {
   "cell_type": "code",
   "execution_count": 44,
   "metadata": {
    "collapsed": true
   },
   "outputs": [],
   "source": [
    "from math import sqrt"
   ]
  },
  {
   "cell_type": "code",
   "execution_count": 45,
   "metadata": {
    "collapsed": false
   },
   "outputs": [],
   "source": [
    "sigma = sqrt((0.625 * (1 - 0.625))/40)\n",
    "cl, cu = (0.625 - 2 * sigma, 0.625 + 2 * sigma)"
   ]
  },
  {
   "cell_type": "code",
   "execution_count": 10,
   "metadata": {
    "collapsed": false
   },
   "outputs": [
    {
     "data": {
      "text/plain": [
       "(0.4719068910760514, 0.7780931089239487)"
      ]
     },
     "execution_count": 10,
     "metadata": {},
     "output_type": "execute_result"
    }
   ],
   "source": [
    "cl, cu"
   ]
  },
  {
   "cell_type": "markdown",
   "metadata": {},
   "source": [
    "### Задача №5\n",
    "\n",
    "Предположим, что вы получаете в среднем три спам письма в день. Какова доля дней в которые вы получаете пять и более спам писем? Округлить до двух знаков."
   ]
  },
  {
   "cell_type": "markdown",
   "metadata": {},
   "source": [
    "#### Решение"
   ]
  },
  {
   "cell_type": "markdown",
   "metadata": {},
   "source": [
    "Т.к. Lambda = E(X) = D(X) = 3 имеем"
   ]
  },
  {
   "cell_type": "code",
   "execution_count": 38,
   "metadata": {
    "collapsed": false
   },
   "outputs": [],
   "source": [
    "from math import factorial as fact, e\n",
    "from __future__ import division\n",
    "\n",
    "def pois(l, k):\n",
    "    return ((l**k)/fact(k))/(e**(l))"
   ]
  },
  {
   "cell_type": "code",
   "execution_count": 39,
   "metadata": {
    "collapsed": false
   },
   "outputs": [
    {
     "data": {
      "text/plain": [
       "0.1008188134449245"
      ]
     },
     "execution_count": 39,
     "metadata": {},
     "output_type": "execute_result"
    }
   ],
   "source": [
    "pois(3, 5)"
   ]
  },
  {
   "cell_type": "code",
   "execution_count": 41,
   "metadata": {
    "collapsed": false
   },
   "outputs": [
    {
     "data": {
      "text/plain": [
       "0.1847367554762278"
      ]
     },
     "execution_count": 41,
     "metadata": {},
     "output_type": "execute_result"
    }
   ],
   "source": [
    "p_ge = 1 - sum([pois(3, i) for i in range(0, 5)])\n",
    "p_ge"
   ]
  },
  {
   "cell_type": "code",
   "execution_count": 29,
   "metadata": {
    "collapsed": false
   },
   "outputs": [
    {
     "data": {
      "text/plain": [
       "'0.25'"
      ]
     },
     "execution_count": 29,
     "metadata": {},
     "output_type": "execute_result"
    }
   ],
   "source": [
    "'%0.2f' % p_ge"
   ]
  }
 ],
 "metadata": {
  "kernelspec": {
   "display_name": "Python 2",
   "language": "python",
   "name": "python2"
  },
  "language_info": {
   "codemirror_mode": {
    "name": "ipython",
    "version": 2
   },
   "file_extension": ".py",
   "mimetype": "text/x-python",
   "name": "python",
   "nbconvert_exporter": "python",
   "pygments_lexer": "ipython2",
   "version": "2.7.10"
  }
 },
 "nbformat": 4,
 "nbformat_minor": 0
}
