{
 "cells": [
  {
   "cell_type": "markdown",
   "metadata": {},
   "source": [
    "# Week 4 (8). Assignment 2.\n",
    "В этом задании будет использоваться датасет boston из sklearn.datasets. Оставьте последние 25% объектов для контроля качества, разделив X и y на X_train, y_train и X_test, y_test.\n",
    "\n",
    "Целью задания будет реализовать простой вариант градиентного бустинга над регрессионными деревьями для случая квадратичной функции потерь."
   ]
  },
  {
   "cell_type": "code",
   "execution_count": 1,
   "metadata": {
    "collapsed": true
   },
   "outputs": [],
   "source": [
    "%matplotlib inline"
   ]
  },
  {
   "cell_type": "code",
   "execution_count": 2,
   "metadata": {
    "collapsed": true
   },
   "outputs": [],
   "source": [
    "from sklearn.datasets import load_boston\n",
    "from sklearn import cross_validation as cross_val, tree, metrics, ensemble, linear_model\n",
    "import numpy as np\n",
    "import matplotlib.pyplot as plt"
   ]
  },
  {
   "cell_type": "code",
   "execution_count": 3,
   "metadata": {
    "collapsed": true
   },
   "outputs": [],
   "source": [
    "def save_data(file_name, data):\n",
    "    with open(file_name, 'wt') as f:\n",
    "        f.write(data)"
   ]
  },
  {
   "cell_type": "code",
   "execution_count": 4,
   "metadata": {
    "collapsed": true
   },
   "outputs": [],
   "source": [
    "data = load_boston()"
   ]
  },
  {
   "cell_type": "code",
   "execution_count": 5,
   "metadata": {
    "collapsed": false
   },
   "outputs": [],
   "source": [
    "x_train, x_test, y_train, y_test = cross_val.train_test_split(data.data, data.target, train_size=0.75, test_size=0.25)\n",
    "\n",
    "split = 380 # data.data.shape[0] * 0.75 # 380\n",
    "\n",
    "x_train = data.data[:split,:]\n",
    "x_test = data.data[split:,:]\n",
    "y_train = data.target[:split]\n",
    "y_test = data.target[split:]\n"
   ]
  },
  {
   "cell_type": "code",
   "execution_count": 6,
   "metadata": {
    "collapsed": false
   },
   "outputs": [
    {
     "data": {
      "text/plain": [
       "380"
      ]
     },
     "execution_count": 6,
     "metadata": {},
     "output_type": "execute_result"
    }
   ],
   "source": [
    "split"
   ]
  },
  {
   "cell_type": "markdown",
   "metadata": {},
   "source": [
    "## Задание 1\n",
    "\n",
    "Как вы уже знаете из лекций, бустинг - это метод построения композиций базовых алгоритмов с помощью последовательного добавления к текущей композиции нового алгоритма с некоторым коэффициентом.\n",
    "\n",
    "Градиентный бустинг обучает каждый новый алгоритм так, чтобы он приближал антиградиент ошибки по ответам композиции на обучающей выборке. Аналогично минимизации функций методом градиентного спуска, в градиентном бустинге мы подправляем композицию, изменяя алгоритм в направлении антиградиента ошибки.\n",
    "\n",
    "Воспользуйтесь формулой из лекций, задающей ответы на обучающей выборке, на которые нужно обучать новый алгоритм (фактически это лишь чуть более подробно расписанный градиент от ошибки), и получите частный ее случай, если функция потерь L - квадрат отклонения ответа композиции a(x) от правильного ответа y на данном x.\n",
    "\n",
    "Если вы давно не считали производную самостоятельно, вам поможет таблица производных элементарных функций (которую несложно найти в интернете) и правило дифференцирования сложной функции. После дифференцирования квадрата у вас возникнет множитель 2 — т.к. нам все равно предстоит выбирать коэффициент, с которым будет добавлен новый базовый алгоритм, проигноируйте этот множитель при дальнейшем построении алгоритма."
   ]
  },
  {
   "cell_type": "code",
   "execution_count": 7,
   "metadata": {
    "collapsed": false
   },
   "outputs": [
    {
     "name": "stdout",
     "output_type": "stream",
     "text": [
      "-2*y + 2*z\n"
     ]
    }
   ],
   "source": [
    "import sympy as sp\n",
    "y, z = sp.symbols('y z')\n",
    "print sp.diff((y - z)**2, z)"
   ]
  },
  {
   "cell_type": "code",
   "execution_count": 8,
   "metadata": {
    "collapsed": true
   },
   "outputs": [],
   "source": [
    "def loss_func_diff(y, z):\n",
    "    return (y - z)"
   ]
  },
  {
   "cell_type": "markdown",
   "metadata": {},
   "source": [
    "## Задание 2\n",
    "\n",
    "Заведите массив для объектов *DecisionTreeRegressor* (будем их использовать в качестве базовых алгоритмов) и для вещественных чисел (это будут коэффициенты перед базовыми алгоритмами). В цикле обучите последовательно 50 решающих деревьев с параметрами max_depth=5 и random_state=42 (остальные параметры - по умолчанию). В бустинге зачастую используются сотни и тысячи деревьев, но мы ограничимся 50, чтобы алгоритм работал быстрее, и его было проще отлаживать (т.к. цель задания разобраться, как работает метод).\n",
    "\n",
    "Каждое дерево должно обучаться на одном и том же множестве объектов, но ответы, которые учится прогнозировать дерево, будут меняться в соответствие с полученным в задании 1 правилом. Попробуйте для начала всегда брать коэффициент равным 0.9. Обычно оправдано выбирать коэффициент значительно меньшим - порядка 0.05 или 0.1, но т.к. в нашем учебном примере на стандартном датасете будет всего 50 деревьев, возьмем для начала шаг побольше.\n",
    "\n",
    "В процессе реализации обучения вам потребуется функция, которая будет вычислять прогноз построенной на данный момент композиции деревьев на выборке X:\n",
    "\n",
    "```\n",
    "def gbm_predict(X):\n",
    "    return [sum([coeff * algo.predict([x])[0] for algo, coeff in zip(base_algorithms_list, coefficients_list)]) for x in X]\n",
    "```    \n",
    "\n",
    "(считаем, что base_algorithms_list - список с базовыми алгоритмами, coefficients_list - список с коэффициентами перед алгоритмами)\n",
    "\n",
    "Эта же функция поможет вам получить прогноз на контрольной выборке и оценить качество работы вашего алгоритма с помощью mean_squared_error в sklearn.metrics. Возведите результат в степень 0.5, чтобы получить RMSE. Полученное значение RMSE — ответ в пункте 2."
   ]
  },
  {
   "cell_type": "code",
   "execution_count": 9,
   "metadata": {
    "collapsed": true
   },
   "outputs": [],
   "source": [
    "def gbm_predict(X):\n",
    "    return [sum([coeff * algo.predict([x])[0] for algo, coeff in zip(base_algorithms_list, coefficients_list)]) for x in X]"
   ]
  },
  {
   "cell_type": "code",
   "execution_count": 10,
   "metadata": {
    "collapsed": true
   },
   "outputs": [],
   "source": [
    "calc_error = lambda y, x: metrics.mean_squared_error(y, gbm_predict(x)) ** 0.5"
   ]
  },
  {
   "cell_type": "code",
   "execution_count": 11,
   "metadata": {
    "collapsed": false
   },
   "outputs": [
    {
     "name": "stdout",
     "output_type": "stream",
     "text": [
      "5.14171794978\n",
      "5.12404962608\n",
      "5.24243748125\n",
      "5.32808194527\n",
      "5.4446917942\n",
      "5.48442642692\n",
      "5.50046001401\n",
      "5.44555987898\n",
      "5.46157639211\n",
      "5.45852497354\n",
      "5.46154965538\n",
      "5.43699229982\n",
      "5.42972271315\n",
      "5.49271522038\n",
      "5.48409393036\n",
      "5.46378500846\n",
      "5.46192886911\n",
      "5.472856139\n",
      "5.44282696117\n",
      "5.45470779343\n",
      "5.4560332266\n",
      "5.46211818938\n",
      "5.46812626981\n",
      "5.46597951535\n",
      "5.46310708588\n",
      "5.4653600629\n",
      "5.45667340379\n",
      "5.45897721573\n",
      "5.45922974567\n",
      "5.45954750611\n",
      "5.45966129375\n",
      "5.45802312575\n",
      "5.45908335959\n",
      "5.4539793577\n",
      "5.45413777425\n",
      "5.4541186761\n",
      "5.45408322254\n",
      "5.45425947384\n",
      "5.45407630526\n",
      "5.45393659221\n",
      "5.45517548341\n",
      "5.45542153514\n",
      "5.45541450985\n",
      "5.45562108526\n",
      "5.45593640262\n",
      "5.45596545468\n",
      "5.45566957385\n",
      "5.45547642623\n",
      "5.45547207453\n"
     ]
    }
   ],
   "source": [
    "base_algorithms_list = []\n",
    "coefficients_list = []\n",
    "test_errors = []\n",
    "eta = 0.9\n",
    "n = 50\n",
    "\n",
    "alg = tree.DecisionTreeRegressor(max_depth=5, random_state=42)\n",
    "alg.fit(x_train, y_train)\n",
    "base_algorithms_list.append(alg)\n",
    "coefficients_list.append(eta)\n",
    "\n",
    "test_errors.append(calc_error(y_test, x_test))\n",
    "\n",
    "for _ in range(n - 1):\n",
    "    alg = tree.DecisionTreeRegressor(max_depth=5, random_state=42)\n",
    "    alg.fit(x_train, loss_func_diff(y_train, gbm_predict(x_train)))\n",
    "\n",
    "    base_algorithms_list.append(alg)\n",
    "    coefficients_list.append(eta)\n",
    "\n",
    "    curr_error = calc_error(y_test, x_test)\n",
    "    print curr_error\n",
    "    test_errors.append(curr_error)\n"
   ]
  },
  {
   "cell_type": "code",
   "execution_count": 12,
   "metadata": {
    "collapsed": false
   },
   "outputs": [
    {
     "data": {
      "text/plain": [
       "[<matplotlib.lines.Line2D at 0x1106aeb50>]"
      ]
     },
     "execution_count": 12,
     "metadata": {},
     "output_type": "execute_result"
    },
    {
     "data": {
      "image/png": "[encoded data removed]",
      "text/plain": [
       "<matplotlib.figure.Figure at 0x1112f2e90>"
      ]
     },
     "metadata": {},
     "output_type": "display_data"
    }
   ],
   "source": [
    "plt.plot(range(n), test_errors)"
   ]
  },
  {
   "cell_type": "code",
   "execution_count": 13,
   "metadata": {
    "collapsed": false
   },
   "outputs": [
    {
     "data": {
      "text/plain": [
       "5.4554720745275311"
      ]
     },
     "execution_count": 13,
     "metadata": {},
     "output_type": "execute_result"
    }
   ],
   "source": [
    "rmse = calc_error(y_test, x_test)\n",
    "rmse"
   ]
  },
  {
   "cell_type": "code",
   "execution_count": 14,
   "metadata": {
    "collapsed": false
   },
   "outputs": [],
   "source": [
    "save_data('w4_a2_t2.txt', str(rmse))"
   ]
  },
  {
   "cell_type": "markdown",
   "metadata": {},
   "source": [
    "## Задание 3\n",
    "\n",
    "Вас может также беспокоить, что двигаясь с постоянным шагом, вблизи минимума ошибки ответы на обучающей выборке меняются слишком резко, перескакивая через минимум. Попробуйте уменьшать вес перед каждым алгоритмом с каждой следующей итерацией по формуле 0.9 / (1.0 + i), где i - номер итерации (от 0 до 9). Используйте качество работы алгоритма как ответ в пункте 3.\n",
    "\n",
    "В реальности часто применяется следующая стратегия выбора шага: как только выбран алгоритм, подберем коэффициент перед ним численным методом оптимизации таким образом, чтобы отклонение от правильных ответов было минимальным.\n",
    "\n",
    "Мы не будем предлагать вам реализовать это для выполнения задания, но рекомендуем попробовать разобраться с такой стратегией и реализовать ее при случае для себя."
   ]
  },
  {
   "cell_type": "code",
   "execution_count": 15,
   "metadata": {
    "collapsed": false
   },
   "outputs": [
    {
     "name": "stdout",
     "output_type": "stream",
     "text": [
      "4.86124886819\n",
      "4.96064637746\n",
      "4.97899313606\n",
      "5.0134998933\n",
      "5.06974976936\n",
      "5.0944008707\n",
      "5.10277694843\n",
      "5.10274256646\n",
      "5.11264832211\n",
      "5.12746453093\n",
      "5.1351384707\n",
      "5.1394255782\n",
      "5.14481579047\n",
      "5.14903662533\n",
      "5.15479476049\n",
      "5.15520236452\n",
      "5.16860679601\n",
      "5.17474464089\n",
      "5.1832079696\n",
      "5.17746798175\n",
      "5.18975711101\n",
      "5.18628855935\n",
      "5.19580404626\n",
      "5.19901960689\n",
      "5.20573062104\n",
      "5.21024211709\n",
      "5.20430009272\n",
      "5.21003959873\n",
      "5.21387263648\n",
      "5.21138832051\n",
      "5.21812628035\n",
      "5.22043566992\n",
      "5.22128389616\n",
      "5.2211913452\n",
      "5.22435936534\n",
      "5.22431715996\n",
      "5.22845515795\n",
      "5.23003485946\n",
      "5.23028650088\n",
      "5.23082453796\n",
      "5.23241471498\n",
      "5.2337839487\n",
      "5.23413210254\n",
      "5.23841228153\n",
      "5.23839642882\n",
      "5.23973519116\n",
      "5.23988793017\n",
      "5.23921218986\n",
      "5.24074258415\n"
     ]
    },
    {
     "data": {
      "text/plain": [
       "5.2407425841471991"
      ]
     },
     "execution_count": 15,
     "metadata": {},
     "output_type": "execute_result"
    }
   ],
   "source": [
    "base_algorithms_list = []\n",
    "coefficients_list = []\n",
    "test_errors = []\n",
    "eta = 0.9\n",
    "n = 50\n",
    "\n",
    "alg = tree.DecisionTreeRegressor(max_depth=5, random_state=42)\n",
    "alg.fit(x_train, y_train)\n",
    "base_algorithms_list.append(alg)\n",
    "coefficients_list.append(eta)\n",
    "\n",
    "test_errors.append(calc_error(y_test, x_test))\n",
    "\n",
    "for i in range(1, n):\n",
    "    alg = tree.DecisionTreeRegressor(max_depth=5, random_state=42)\n",
    "    alg.fit(x_train, loss_func_diff(y_train, gbm_predict(x_train)))\n",
    "    \n",
    "    eta = 0.9 / (1.0 + float(i))\n",
    "\n",
    "    base_algorithms_list.append(alg)\n",
    "    coefficients_list.append(eta)\n",
    "\n",
    "    curr_error = calc_error(y_test, x_test)\n",
    "    print curr_error\n",
    "    test_errors.append(curr_error)\n",
    "\n",
    "rmse = calc_error(y_test, x_test)\n",
    "rmse"
   ]
  },
  {
   "cell_type": "code",
   "execution_count": 16,
   "metadata": {
    "collapsed": true
   },
   "outputs": [],
   "source": [
    "save_data('w4_a2_t3.txt', str(rmse))"
   ]
  },
  {
   "cell_type": "markdown",
   "metadata": {},
   "source": [
    "## Задание 4\n",
    "\n",
    "Реализованный вами метод - градиентный бустинг над деревьями - очень популярен в машинном обучении. Он представлен как в самой библиотеке sklearn, так и в сторонней библиотеке XGBoost, которая имеет свой питоновский интерфейс. На практике XGBoost работает заметно лучше GradientBoostingRegressor из sklearn, но для этого задания вы можете использовать любую реализацию. Исследуйте, переобучается ли градиентный бустинг с ростом числа итераций (и подумайте, почему), а также с ростом глубины деревьев. На основе наблюдений выпишите через пробел номера правильных из приведенных ниже утверждений в порядке возрастания номера (это будет ответ в п.4):\n",
    "\n",
    "1) С увеличением числа деревьев начиная с некоторого момента качество работы градиентного бустинга не меняется существенно.\n",
    "\n",
    "2) С увеличением числа деревьев начиная с некоторого момента градиентный бустинг начинает переобучаться.\n",
    "\n",
    "3) С ростом глубины деревьев, начиная с некоторого момента, качество работы градиентного бустинга на тестовой выборке начинает ухудшаться\n",
    "\n",
    "4) С ростом глубины деревьев, начиная с некоторого момента, качество работы градиентного бустинга перестает существенно изменяться"
   ]
  },
  {
   "cell_type": "code",
   "execution_count": 17,
   "metadata": {
    "collapsed": false,
    "scrolled": true
   },
   "outputs": [
    {
     "data": {
      "image/png": "[encoded data removed]",
      "text/plain": [
       "<matplotlib.figure.Figure at 0x1113cfbd0>"
      ]
     },
     "metadata": {},
     "output_type": "display_data"
    },
    {
     "name": "stdout",
     "output_type": "stream",
     "text": [
      "[4.308895450695875, 4.2103281349152422, 4.3981466260511226, 4.3248988673929922, 4.3892413477856165, 4.416713486179451, 4.3386137252272263, 4.4100889861040438, 4.2861621816217736, 4.4419368623394444]\n"
     ]
    }
   ],
   "source": [
    "errors = []\n",
    "\n",
    "for i in range(100, 200, 10):\n",
    "    gbr = ensemble.GradientBoostingRegressor(n_estimators=i)\n",
    "    gbr.fit(x_train, y_train)\n",
    "    y_pred = gbr.predict(x_test)\n",
    "    errors.append(metrics.mean_squared_error(y_test, y_pred) ** 0.5)\n",
    "\n",
    "plt.plot(range(len(errors)), errors)\n",
    "plt.show()\n",
    "print errors"
   ]
  },
  {
   "cell_type": "code",
   "execution_count": 18,
   "metadata": {
    "collapsed": false
   },
   "outputs": [],
   "source": [
    "save_data('w4_a2_t4.txt', '2 3')"
   ]
  },
  {
   "cell_type": "markdown",
   "metadata": {},
   "source": [
    "## Задание 5\n",
    "\n",
    "Сравните получаемое с помощью градиентного бустинга качество с качеством работы линейной регрессии. Для этого обучите LinearRegression из sklearn.linear_model (с параметрами по умолчанию) на обучающей выборке и оцените для прогнозов полученного алгоритма на тестовой выборке RMSE.\n",
    "\n",
    "*Полученное качество - ответ в пункте 5*.\n",
    "\n",
    "В данном примере качество работы простой модели должно было оказаться хуже, но не стоит забывать, что так бывает не всегда. В заданиях к этому курсу вы еще встретите пример обратной ситуации."
   ]
  },
  {
   "cell_type": "code",
   "execution_count": 19,
   "metadata": {
    "collapsed": false
   },
   "outputs": [
    {
     "name": "stderr",
     "output_type": "stream",
     "text": [
      "/Users/zolkko/.virtualenvs/ml/lib/python2.7/site-packages/scipy/linalg/basic.py:884: RuntimeWarning: internal gelsd driver lwork query error, required iwork dimension not returned. This is likely the result of LAPACK bug 0038, fixed in LAPACK 3.2.2 (released July 21, 2010). Falling back to 'gelss' driver.\n",
      "  warnings.warn(mesg, RuntimeWarning)\n"
     ]
    },
    {
     "data": {
      "text/plain": [
       "7.8481217964798988"
      ]
     },
     "execution_count": 19,
     "metadata": {},
     "output_type": "execute_result"
    }
   ],
   "source": [
    "alg = linear_model.LinearRegression()\n",
    "alg.fit(x_train, y_train)\n",
    "y_pred = alg.predict(x_test)\n",
    "rmse = metrics.mean_squared_error(y_test, y_pred) ** 0.5\n",
    "rmse"
   ]
  },
  {
   "cell_type": "code",
   "execution_count": 20,
   "metadata": {
    "collapsed": true
   },
   "outputs": [],
   "source": [
    "save_data('w4_a2_t5.txt', str(rmse))"
   ]
  },
  {
   "cell_type": "code",
   "execution_count": null,
   "metadata": {
    "collapsed": true
   },
   "outputs": [],
   "source": []
  }
 ],
 "metadata": {
  "kernelspec": {
   "display_name": "Python 2",
   "language": "python",
   "name": "python2"
  },
  "language_info": {
   "codemirror_mode": {
    "name": "ipython",
    "version": 2
   },
   "file_extension": ".py",
   "mimetype": "text/x-python",
   "name": "python",
   "nbconvert_exporter": "python",
   "pygments_lexer": "ipython2",
   "version": "2.7.10"
  }
 },
 "nbformat": 4,
 "nbformat_minor": 0
}
