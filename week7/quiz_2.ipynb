{
 "cells": [
  {
   "cell_type": "markdown",
   "metadata": {},
   "source": [
    "### Вопрос №1\n",
    "При комплексном обследовании нескольких тысяч человек по измерявшимся показателям (включая пульс, давление, ЭКГ и т.д.) оценивался риск возникновения сердечного заболевания. Ста пациентам с самым высоким риском была предложена оздоровительная программа, включающая диету, упражнения и приём профилактических препаратов. Через несколько месяцев после окончания программы пациенты снова прошли диспансеризацию; средний оцениваемый риск возникновения сердечного заболевания существенно уменьшился.\n",
    "\n",
    "---\n",
    "**Ответ:**\n",
    "Данных недостаточно: поскольку были выбраны пациенты с наибольшим риском, измеренный эффект может объясняться регрессией к среднему. Для оценки эффективности программы нужно использовать контрольную группу пациентов с таким же высоким риском, для которых программа не проводилась, и сравнить изменения в двух группах."
   ]
  },
  {
   "cell_type": "markdown",
   "metadata": {},
   "source": [
    "### Вопрос №2\n",
    "Из 15 клиентов банка, которым менеджер предложил подключить автоплатёж, четверо согласились. Подключение услуги — бинарный признак, который можно описать распределением Бернулли. Запишите функцию правдоподобия L(Xn,p) для такой выборки и посчитайте её значение, если истинная вероятность подключения услуги p=0.2. Запишите ответ с пятью знаками после десятичной точки."
   ]
  },
  {
   "cell_type": "code",
   "execution_count": 1,
   "metadata": {
    "collapsed": true
   },
   "outputs": [],
   "source": [
    "import sympy as sp\n",
    "sp.init_printing()"
   ]
  },
  {
   "cell_type": "code",
   "execution_count": 2,
   "metadata": {
    "collapsed": true
   },
   "outputs": [],
   "source": [
    "yes, total, p, i, n, x, s = sp.symbols('y t p i n x s')"
   ]
  },
  {
   "cell_type": "markdown",
   "metadata": {},
   "source": [
    "Функция распределения:"
   ]
  },
  {
   "cell_type": "code",
   "execution_count": 3,
   "metadata": {
    "collapsed": false
   },
   "outputs": [
    {
     "data": {
      "image/png": "[encoded data removed]",
      "text/latex": [
       "$$p^{x} \\left(- p + 1\\right)^{- x + 1}$$"
      ],
      "text/plain": [
       " x         -x + 1\n",
       "p ⋅(-p + 1)      "
      ]
     },
     "execution_count": 3,
     "metadata": {},
     "output_type": "execute_result"
    }
   ],
   "source": [
    "expr = p**x * (1 - p)**(1-x)\n",
    "expr"
   ]
  },
  {
   "cell_type": "markdown",
   "metadata": {},
   "source": [
    "Функция правдоподобия тогда получается:"
   ]
  },
  {
   "cell_type": "code",
   "execution_count": 4,
   "metadata": {
    "collapsed": false
   },
   "outputs": [
    {
     "data": {
      "image/png": "[encoded data removed]",
      "text/latex": [
       "$$\\prod_{i=1}^{n} p^{x} \\left(- p + 1\\right)^{- x + 1}$$"
      ],
      "text/plain": [
       "  n                     \n",
       "┬────┬                  \n",
       "│    │  x         -x + 1\n",
       "│    │ p ⋅(-p + 1)      \n",
       "│    │                  \n",
       "i = 1                   "
      ]
     },
     "execution_count": 4,
     "metadata": {},
     "output_type": "execute_result"
    }
   ],
   "source": [
    "prod = sp.Product(expr, (i, 1, n))\n",
    "prod"
   ]
  },
  {
   "cell_type": "code",
   "execution_count": 5,
   "metadata": {
    "collapsed": false
   },
   "outputs": [
    {
     "data": {
      "image/png": "[encoded data removed]",
      "text/latex": [
       "$$\\left(p^{x} \\left(- p + 1\\right)^{- x + 1}\\right)^{n}$$"
      ],
      "text/plain": [
       "                   n\n",
       "⎛ x         -x + 1⎞ \n",
       "⎝p ⋅(-p + 1)      ⎠ "
      ]
     },
     "execution_count": 5,
     "metadata": {},
     "output_type": "execute_result"
    }
   ],
   "source": [
    "subs_prod = prod.doit()\n",
    "subs_prod"
   ]
  },
  {
   "cell_type": "markdown",
   "metadata": {},
   "source": [
    "Считаем функцию правдоподобия, если p=0.2.\n",
    "Получаем **ответ**:"
   ]
  },
  {
   "cell_type": "code",
   "execution_count": 6,
   "metadata": {
    "collapsed": false
   },
   "outputs": [
    {
     "data": {
      "image/png": "[encoded data removed]",
      "text/latex": [
       "$$p^{3.0} \\left(- p + 1\\right)^{12.0}$$"
      ],
      "text/plain": [
       " 3.0         12.0\n",
       "p   ⋅(-p + 1)    "
      ]
     },
     "execution_count": 6,
     "metadata": {},
     "output_type": "execute_result"
    }
   ],
   "source": [
    "res = subs_prod.subs({x: 0.2, n: 15})\n",
    "res"
   ]
  },
  {
   "cell_type": "code",
   "execution_count": 7,
   "metadata": {
    "collapsed": false
   },
   "outputs": [
    {
     "data": {
      "image/png": "[encoded data removed]",
      "text/latex": [
       "$$p^{s} \\left(- p + 1\\right)^{n - s}$$"
      ],
      "text/plain": [
       " s         n - s\n",
       "p ⋅(-p + 1)     "
      ]
     },
     "execution_count": 7,
     "metadata": {},
     "output_type": "execute_result"
    }
   ],
   "source": [
    "subs_prod = p**s * (1-p)**(n-s)\n",
    "subs_prod"
   ]
  },
  {
   "cell_type": "code",
   "execution_count": 8,
   "metadata": {
    "collapsed": false
   },
   "outputs": [
    {
     "data": {
      "text/plain": [
       "'0.00014'"
      ]
     },
     "execution_count": 8,
     "metadata": {},
     "output_type": "execute_result"
    }
   ],
   "source": [
    "res = subs_prod.subs({s: 4, n: 15, p: 0.2})\n",
    "'%0.5f' % res"
   ]
  },
  {
   "cell_type": "markdown",
   "metadata": {},
   "source": [
    "### Вопрос №3\n",
    "\n",
    "По выборке из предыдущей задачи найдите оценку максимального правдоподобия для параметра p. Запишите ответ с тремя знаками после десятичной точки."
   ]
  },
  {
   "cell_type": "code",
   "execution_count": 9,
   "metadata": {
    "collapsed": false
   },
   "outputs": [
    {
     "data": {
      "image/png": "[encoded data removed]",
      "text/latex": [
       "$$\\log{\\left (p^{s} \\left(- p + 1\\right)^{n - s} \\right )}$$"
      ],
      "text/plain": [
       "   ⎛ s         n - s⎞\n",
       "log⎝p ⋅(-p + 1)     ⎠"
      ]
     },
     "execution_count": 9,
     "metadata": {},
     "output_type": "execute_result"
    }
   ],
   "source": [
    "ln_prod = sp.ln(subs_prod)\n",
    "ln_prod"
   ]
  },
  {
   "cell_type": "code",
   "execution_count": 10,
   "metadata": {
    "collapsed": false
   },
   "outputs": [
    {
     "data": {
      "image/png": "[encoded data removed]",
      "text/latex": [
       "$$\\log{\\left (p^{4} \\left(- p + 1\\right)^{11} \\right )}$$"
      ],
      "text/plain": [
       "   ⎛ 4         11⎞\n",
       "log⎝p ⋅(-p + 1)  ⎠"
      ]
     },
     "execution_count": 10,
     "metadata": {},
     "output_type": "execute_result"
    }
   ],
   "source": [
    "subs_ln_prod = ln_prod.subs({n: 15, s: 4}).doit()\n",
    "subs_ln_prod"
   ]
  },
  {
   "cell_type": "code",
   "execution_count": 11,
   "metadata": {
    "collapsed": false
   },
   "outputs": [
    {
     "data": {
      "image/png": "[encoded data removed]",
      "text/latex": [
       "$$\\frac{1}{p^{4} \\left(- p + 1\\right)^{11}} \\left(- 11 p^{4} \\left(- p + 1\\right)^{10} + 4 p^{3} \\left(- p + 1\\right)^{11}\\right)$$"
      ],
      "text/plain": [
       "      4         10      3         11\n",
       "- 11⋅p ⋅(-p + 1)   + 4⋅p ⋅(-p + 1)  \n",
       "────────────────────────────────────\n",
       "            4         11            \n",
       "           p ⋅(-p + 1)              "
      ]
     },
     "execution_count": 11,
     "metadata": {},
     "output_type": "execute_result"
    }
   ],
   "source": [
    "diff_eq = sp.diff(subs_ln_prod, p)\n",
    "diff_eq"
   ]
  },
  {
   "cell_type": "markdown",
   "metadata": {},
   "source": [
    "приравниваем производную к 0"
   ]
  },
  {
   "cell_type": "code",
   "execution_count": 12,
   "metadata": {
    "collapsed": false
   },
   "outputs": [
    {
     "data": {
      "image/png": "[encoded data removed]",
      "text/latex": [
       "$$\\frac{1}{p^{4} \\left(- p + 1\\right)^{11}} \\left(- 11 p^{4} \\left(- p + 1\\right)^{10} + 4 p^{3} \\left(- p + 1\\right)^{11}\\right) = 0$$"
      ],
      "text/plain": [
       "      4         10      3         11    \n",
       "- 11⋅p ⋅(-p + 1)   + 4⋅p ⋅(-p + 1)      \n",
       "──────────────────────────────────── = 0\n",
       "            4         11                \n",
       "           p ⋅(-p + 1)                  "
      ]
     },
     "execution_count": 12,
     "metadata": {},
     "output_type": "execute_result"
    }
   ],
   "source": [
    "loss_eq = sp.Eq(diff_eq, 0)\n",
    "loss_eq"
   ]
  },
  {
   "cell_type": "markdown",
   "metadata": {},
   "source": [
    "и решаем относительно **p**"
   ]
  },
  {
   "cell_type": "code",
   "execution_count": 13,
   "metadata": {
    "collapsed": false
   },
   "outputs": [
    {
     "data": {
      "image/png": "[encoded data removed]",
      "text/latex": [
       "$$\\frac{4}{15}$$"
      ],
      "text/plain": [
       "4/15"
      ]
     },
     "execution_count": 13,
     "metadata": {},
     "output_type": "execute_result"
    }
   ],
   "source": [
    "fres = sp.solve(loss_eq, p)\n",
    "fres[0]"
   ]
  },
  {
   "cell_type": "code",
   "execution_count": 14,
   "metadata": {
    "collapsed": false
   },
   "outputs": [
    {
     "data": {
      "image/png": "[encoded data removed]",
      "text/latex": [
       "$$0.267$$"
      ],
      "text/plain": [
       "0.267"
      ]
     },
     "execution_count": 14,
     "metadata": {},
     "output_type": "execute_result"
    }
   ],
   "source": [
    "fres[0].evalf(3)"
   ]
  },
  {
   "cell_type": "markdown",
   "metadata": {},
   "source": [
    "### 4\n",
    "Выберите верные утверждения о регрессии, получаемой методом наименьших квадратов.\n",
    "\n",
    "---\n",
    "1. Получаемая оценка приближает условное по x матожидание отклика y.\n",
    "2. Если шум описывается нормальным распределением с нулевым средним и постоянной дисперсией, метод наименьших квадратов даёт оценку максимального правдоподобия."
   ]
  },
  {
   "cell_type": "markdown",
   "metadata": {},
   "source": [
    "### 5\n",
    "\n",
    "Какие из приведённых ниже средств помогают от переобучения линейных моделей?\n",
    "\n",
    "---\n",
    "* Регуляризаторы.\n",
    "* Увеличение количества данных.\n",
    "* Упрощение модели."
   ]
  },
  {
   "cell_type": "markdown",
   "metadata": {},
   "source": [
    "### 6\n",
    "\n",
    "Выберите верные утверждения о регрессии, получаемой методом наименьших квадратов с L1/L2 регуляризаторами.\n",
    "\n",
    "---\n",
    "\n",
    "* Константное слагаемое не должно входить в регуляризатор.\n",
    "* Регуляризаторы позволяют бороться с переобучением модели.\n",
    "* При использовании L2-регуляризатора в МНК решение можно найти аналитически, а с L1-регуляризатором — только численно.\n",
    "* Из-за регуляризаторов оценки коэффициентов модели получаются смещённые.\n"
   ]
  },
  {
   "cell_type": "markdown",
   "metadata": {},
   "source": [
    "### 7\n",
    "\n",
    "Выберите верные утверждения о логистической регрессии.\n",
    "\n",
    "---\n",
    "\n",
    "* Оценка параметров модели делается минимизацией кросс-энтропии.\n",
    "* При настройке моделей могут возникать проблемы, если классы линейно разделимы в пространстве признаков."
   ]
  },
  {
   "cell_type": "code",
   "execution_count": null,
   "metadata": {
    "collapsed": true
   },
   "outputs": [],
   "source": []
  }
 ],
 "metadata": {
  "kernelspec": {
   "display_name": "Python 2",
   "language": "python",
   "name": "python2"
  },
  "language_info": {
   "codemirror_mode": {
    "name": "ipython",
    "version": 2
   },
   "file_extension": ".py",
   "mimetype": "text/x-python",
   "name": "python",
   "nbconvert_exporter": "python",
   "pygments_lexer": "ipython2",
   "version": "2.7.10"
  }
 },
 "nbformat": 4,
 "nbformat_minor": 0
}
