{
 "cells": [
  {
   "cell_type": "markdown",
   "metadata": {},
   "source": [
    "# Lab 1"
   ]
  },
  {
   "cell_type": "markdown",
   "metadata": {},
   "source": [
    "## Task 1"
   ]
  },
  {
   "cell_type": "markdown",
   "metadata": {},
   "source": [
    "Выполните следующие шаги:\n",
    "\n",
    "* Скачайте файл с предложениями (sentences.txt).\n",
    "* Каждая строка в файле соответствует одному предложению. Считайте их, приведите каждую к нижнему регистру с помощью строковой функции lower().\n",
    "* Произведите токенизацию, то есть разбиение текстов на слова. Для этого можно воспользоваться регулярным выражением, которое считает разделителем любой символ, не являющийся буквой: re.split('[^a-z]', t). Не забудьте удалить пустые слова после разделения.\n",
    "* Составьте список всех слов, встречающихся в предложениях. Сопоставьте каждому слову индекс от нуля до (d - 1), где d — число различных слов в предложениях. Для этого удобно воспользоваться структурой dict.\n",
    "* Создайте матрицу размера n * d, где n — число предложений. Заполните ее: элемент с индексом (i, j) в этой матрице должен быть равен количеству вхождений j-го слова в i-е предложение. У вас должна получиться матрица размера 22 * 254.\n",
    "* Найдите косинусное расстояние от предложения в самой первой строке (In comparison to dogs, cats have not undergone...) до всех остальных с помощью функции scipy.spatial.distance.cosine. Какие номера у двух предложений, ближайших к нему по этому расстоянию (строки нумеруются с нуля)? Эти два числа и будут ответами на задание.\n",
    "* Запишите полученные числа в файл, разделив пробелом. Обратите внимание, что файл должен состоять из одной строки, в конце которой не должно быть переноса. Пример файла с решением вы можете найти в конце задания (submission-1.txt).\n",
    "* Совпадают ли ближайшие два предложения по тематике с первым? Совпадают ли тематики у следующих по близости предложений?\n",
    "* Разумеется, использованный вами метод крайне простой. Например, он не учитывает формы слов (так, cat и cats он считает разными словами, хотя по сути они означают одно и то же), не удаляет из текстов артикли и прочие ненужные слова. Позже мы будем подробно изучать анализ текстов, где выясним, как достичь высокого качества в задаче поиска похожих предложений."
   ]
  },
  {
   "cell_type": "code",
   "execution_count": 35,
   "metadata": {
    "collapsed": true
   },
   "outputs": [],
   "source": [
    "import re \n",
    "from collections import Counter\n",
    "\n",
    "import numpy as np\n",
    "from scipy.spatial.distance import cosine"
   ]
  },
  {
   "cell_type": "code",
   "execution_count": 36,
   "metadata": {
    "collapsed": false
   },
   "outputs": [],
   "source": [
    "TOKENIZER = re.compile(r'[^A-Za-z]', re.I)"
   ]
  },
  {
   "cell_type": "code",
   "execution_count": 37,
   "metadata": {
    "collapsed": false
   },
   "outputs": [],
   "source": [
    "with open('sentences.txt', 'r') as f:\n",
    "    lines = f.readlines()\n",
    "\n",
    "word_lines = [[word.lower() for word in TOKENIZER.split(line) if len(word) > 0] for line in lines]\n",
    "all_words = tuple(set(w for l in word_lines for w in l))\n",
    "words_count = len(all_words)"
   ]
  },
  {
   "cell_type": "code",
   "execution_count": 38,
   "metadata": {
    "collapsed": true
   },
   "outputs": [],
   "source": [
    "words_count = len(all_words)\n",
    "lines_count = len(lines)"
   ]
  },
  {
   "cell_type": "code",
   "execution_count": 39,
   "metadata": {
    "collapsed": false
   },
   "outputs": [],
   "source": [
    "assert words_count == 254\n",
    "assert lines_count == 22"
   ]
  },
  {
   "cell_type": "code",
   "execution_count": 40,
   "metadata": {
    "collapsed": false
   },
   "outputs": [],
   "source": [
    "#data = np.zeros((lines_count, words_count), dtype=int)"
   ]
  },
  {
   "cell_type": "code",
   "execution_count": 41,
   "metadata": {
    "collapsed": false
   },
   "outputs": [],
   "source": [
    "#for i in range(lines_count):\n",
    "#    line_counter = Counter(word_lines[i])\n",
    "#    for j in range(words_count):\n",
    "#        data[i, j] = line_counter[all_words[j]]"
   ]
  },
  {
   "cell_type": "code",
   "execution_count": 42,
   "metadata": {
    "collapsed": false
   },
   "outputs": [],
   "source": [
    "data = np.array([wlin_cnt[word] for wlin_cnt in\n",
    "                 (Counter(l) for l in word_lines) for word in all_words],\n",
    "                dtype=int).reshape(lines_count, words_count)"
   ]
  },
  {
   "cell_type": "markdown",
   "metadata": {},
   "source": [
    "Because cosine function is defined as $ 1 - \\frac{ \\langle x, y \\rangle }{ \\|x\\| \\|y\\| } $ i need to use smallest values. So 1 for $ cos(\\alpha, \\alpha) = 1 $ distance mean two vectors are equvivalent, but $ 1 - X = 0 $ inverts the result"
   ]
  },
  {
   "cell_type": "code",
   "execution_count": 43,
   "metadata": {
    "collapsed": false
   },
   "outputs": [],
   "source": [
    "cos_dist = [(i, cosine(data[0], data[i])) for i in range(1, lines_count)]\n",
    "res = sorted(cos_dist, key=lambda x: x[1])[:2]"
   ]
  },
  {
   "cell_type": "code",
   "execution_count": 44,
   "metadata": {
    "collapsed": false
   },
   "outputs": [
    {
     "name": "stdout",
     "output_type": "stream",
     "text": [
      "Result: 6   4\n"
     ]
    }
   ],
   "source": [
    "print 'Result:', res[0][0], ' ', res[1][0]"
   ]
  },
  {
   "cell_type": "code",
   "execution_count": 45,
   "metadata": {
    "collapsed": true
   },
   "outputs": [],
   "source": [
    "with open('submission-1.txt', 'w') as f:\n",
    "    f.write('%d %d' % (res[0][0], res[1][0]))"
   ]
  },
  {
   "cell_type": "code",
   "execution_count": 46,
   "metadata": {
    "collapsed": false
   },
   "outputs": [
    {
     "name": "stdout",
     "output_type": "stream",
     "text": [
      "6 4"
     ]
    }
   ],
   "source": [
    "!cat submission-1.txt"
   ]
  },
  {
   "cell_type": "markdown",
   "metadata": {},
   "source": [
    "## Task 2"
   ]
  },
  {
   "cell_type": "markdown",
   "metadata": {},
   "source": [
    "Рассмотрим сложную математическую функцию на отрезке [1, 15]:\n",
    "\n",
    "$$ f(x) = sin(x / 5) * exp(x / 10) + 5 * exp(-x / 2) $$\n",
    "\n",
    "\n",
    "Она может описывать, например, зависимость оценок, которые выставляют определенному сорту вина эксперты, в зависимости от возраста этого вина. По сути, задача машинного обучения состоит в том, чтобы приблизить сложную зависимость с помощью функции из определенного семейства. В этом задании мы будем приближать указанную функцию с помощью многочленов.\n",
    "\n",
    "Как известно, многочлен степени n (то есть $ w_0 + w_1 x + w_2 x^2 + ... + w_n x^n $) однозначно определяется любыми $ n + 1 $ различными точками, через которые он проходит. Это значит, что его коэффициенты $ w_0, ... w_n $ можно определить из следующей системы линейных уравнений:\n",
    "\n",
    "$$ \n",
    "\\begin{cases}\n",
    "w_0 + w_1 x_1 + w_2 x^2_1 + ... + w_n x^n_1 = f(x_1) \\\\\n",
    "...\\\\\n",
    "w_0 + w_1 x_{n+1} + w_2 x^2_{n + 1} + ... + w_n x^n_{n + 1} = f(x_{n + 1})\n",
    "\\end{cases}\n",
    "$$\n",
    "\n",
    "где через $ x_1, ..., x_n, x_{n+1} $ обозначены точки, через которые проходит многочлен, а через $ f(x_1), ..., f(x_n), f(x_{n+1}) $ — значения, которые он должен принимать в этих точках.\n",
    "\n",
    "Воспользуемся описанным свойством, и будем находить приближение функции многочленом, решая систему линейных уравнений.\n",
    "\n",
    "* Сформируйте систему линейных уравнений (то есть задайте матрицу коэффициентов A и свободный вектор b) для многочлена первой степени, который должен совпадать с функцией f в точках 1 и 15. Решите данную систему с помощью функции scipy.linalg.solve. Нарисуйте функцию f и полученный многочлен. Хорошо ли он приближает исходную функцию?\n",
    "* Повторите те же шаги для многочлена второй степени, который совпадает с функцией f в точках 1, 8 и 15. Улучшилось ли качество аппроксимации?\n",
    "* Повторите те же шаги для многочлена третьей степени, который совпадает с функцией f в точках 1, 4, 10 и 15. Хорошо ли он аппроксимирует функцию? Коэффициенты данного многочлена (четыре числа: w_0, w_1, w_2, w_3) являются ответом на задачу. Округлять коэффициенты не обязательно, но при желании можете произвести округление до второго знака (т.е. до числа вида 0.42)\n",
    "* Запишите полученные числа в файл, разделив пробелами. Обратите внимание, что файл должен состоять из одной строки, в конце которой не должно быть переноса. Пример файла с решением вы можете найти в конце задания (submission-2.txt)."
   ]
  },
  {
   "cell_type": "code",
   "execution_count": 47,
   "metadata": {
    "collapsed": false
   },
   "outputs": [
    {
     "name": "stdout",
     "output_type": "stream",
     "text": [
      "Populating the interactive namespace from numpy and matplotlib\n"
     ]
    },
    {
     "name": "stderr",
     "output_type": "stream",
     "text": [
      "WARNING: pylab import has clobbered these variables: ['f', 'solve']\n",
      "`%matplotlib` prevents importing * from pylab and numpy\n"
     ]
    }
   ],
   "source": [
    "%pylab inline"
   ]
  },
  {
   "cell_type": "code",
   "execution_count": 48,
   "metadata": {
    "collapsed": false
   },
   "outputs": [],
   "source": [
    "import numpy as np\n",
    "import matplotlib.pyplot as plt\n",
    "from scipy.linalg import solve"
   ]
  },
  {
   "cell_type": "code",
   "execution_count": 49,
   "metadata": {
    "collapsed": false
   },
   "outputs": [],
   "source": [
    "def func(x):\n",
    "    return np.sin(x / 5.0) * np.exp(x / 10.0) + 5 * np.exp(-x / 2.0)"
   ]
  },
  {
   "cell_type": "code",
   "execution_count": 50,
   "metadata": {
    "collapsed": true
   },
   "outputs": [],
   "source": [
    "tm_vec = np.arange(1, 15, 0.1)"
   ]
  },
  {
   "cell_type": "markdown",
   "metadata": {},
   "source": [
    "#### First part"
   ]
  },
  {
   "cell_type": "code",
   "execution_count": 51,
   "metadata": {
    "collapsed": true
   },
   "outputs": [],
   "source": [
    "x1 = 1\n",
    "x2 = 15"
   ]
  },
  {
   "cell_type": "code",
   "execution_count": 52,
   "metadata": {
    "collapsed": false
   },
   "outputs": [],
   "source": [
    "f1 = func(x1)\n",
    "f2 = func(x2)"
   ]
  },
  {
   "cell_type": "code",
   "execution_count": 53,
   "metadata": {
    "collapsed": true
   },
   "outputs": [],
   "source": [
    "A = np.array([[1, x1], [1, x2]])\n",
    "B = np.array([f1, f2])"
   ]
  },
  {
   "cell_type": "code",
   "execution_count": 54,
   "metadata": {
    "collapsed": false
   },
   "outputs": [],
   "source": [
    "Z = solve(A, B)"
   ]
  },
  {
   "cell_type": "code",
   "execution_count": 55,
   "metadata": {
    "collapsed": false
   },
   "outputs": [
    {
     "data": {
      "text/plain": [
       "[<matplotlib.lines.Line2D at 0x10aae7490>]"
      ]
     },
     "execution_count": 55,
     "metadata": {},
     "output_type": "execute_result"
    },
    {
     "data": {
      "image/png": "[encoded data removed]",
      "text/plain": [
       "<matplotlib.figure.Figure at 0x10a9c1910>"
      ]
     },
     "metadata": {},
     "output_type": "display_data"
    }
   ],
   "source": [
    "plt.plot(tm_vec, func(tm_vec))\n",
    "plt.plot(tm_vec, (lambda x: Z[0] + x * Z[1])(tm_vec))"
   ]
  },
  {
   "cell_type": "markdown",
   "metadata": {},
   "source": [
    "#### Second part"
   ]
  },
  {
   "cell_type": "code",
   "execution_count": 56,
   "metadata": {
    "collapsed": true
   },
   "outputs": [],
   "source": [
    "x1 = 1\n",
    "x2 = 8\n",
    "x3 = 15"
   ]
  },
  {
   "cell_type": "code",
   "execution_count": 57,
   "metadata": {
    "collapsed": true
   },
   "outputs": [],
   "source": [
    "f1 = func(x1)\n",
    "f2 = func(x2)\n",
    "f3 = func(x3)"
   ]
  },
  {
   "cell_type": "code",
   "execution_count": 58,
   "metadata": {
    "collapsed": true
   },
   "outputs": [],
   "source": [
    "A = np.array([\n",
    "        [1, x1, x1**2],\n",
    "        [1, x2, x2**2],\n",
    "        [1, x3, x3**2]])\n",
    "B = np.array([f1, f2, f3])"
   ]
  },
  {
   "cell_type": "code",
   "execution_count": 59,
   "metadata": {
    "collapsed": false
   },
   "outputs": [],
   "source": [
    "Z = solve(A, B)"
   ]
  },
  {
   "cell_type": "code",
   "execution_count": 60,
   "metadata": {
    "collapsed": false
   },
   "outputs": [
    {
     "data": {
      "text/plain": [
       "[<matplotlib.lines.Line2D at 0x10abaefd0>]"
      ]
     },
     "execution_count": 60,
     "metadata": {},
     "output_type": "execute_result"
    },
    {
     "data": {
      "image/png": "[encoded data removed]",
      "text/plain": [
       "<matplotlib.figure.Figure at 0x10abaef50>"
      ]
     },
     "metadata": {},
     "output_type": "display_data"
    }
   ],
   "source": [
    "plt.plot(tm_vec, func(tm_vec))\n",
    "plt.plot(tm_vec, (lambda x: Z[0] + (x * Z[1]) + ((x ** 2) * Z[2]))(tm_vec))"
   ]
  },
  {
   "cell_type": "markdown",
   "metadata": {},
   "source": [
    "#### Third step"
   ]
  },
  {
   "cell_type": "code",
   "execution_count": 61,
   "metadata": {
    "collapsed": true
   },
   "outputs": [],
   "source": [
    "x1 = 1\n",
    "x2 = 4\n",
    "x3 = 10\n",
    "x4 = 15"
   ]
  },
  {
   "cell_type": "code",
   "execution_count": 62,
   "metadata": {
    "collapsed": true
   },
   "outputs": [],
   "source": [
    "f1 = func(x1)\n",
    "f2 = func(x2)\n",
    "f3 = func(x3)\n",
    "f4 = func(x4)"
   ]
  },
  {
   "cell_type": "code",
   "execution_count": 63,
   "metadata": {
    "collapsed": true
   },
   "outputs": [],
   "source": [
    "A = np.array([\n",
    "        [1, x1, x1**2, x1**3],\n",
    "        [1, x2, x2**2, x2**3],\n",
    "        [1, x3, x3**2, x3**3],\n",
    "        [1, x4, x4**2, x4**3]\n",
    "    ])\n",
    "B = np.array([f1, f2, f3, f4])"
   ]
  },
  {
   "cell_type": "code",
   "execution_count": 64,
   "metadata": {
    "collapsed": false
   },
   "outputs": [],
   "source": [
    "Z = solve(A, B)"
   ]
  },
  {
   "cell_type": "code",
   "execution_count": 65,
   "metadata": {
    "collapsed": false
   },
   "outputs": [
    {
     "data": {
      "text/plain": [
       "[<matplotlib.lines.Line2D at 0x10ad41550>]"
      ]
     },
     "execution_count": 65,
     "metadata": {},
     "output_type": "execute_result"
    },
    {
     "data": {
      "image/png": "[encoded data removed]",
      "text/plain": [
       "<matplotlib.figure.Figure at 0x10ad414d0>"
      ]
     },
     "metadata": {},
     "output_type": "display_data"
    }
   ],
   "source": [
    "plt.plot(tm_vec, func(tm_vec))\n",
    "plt.plot(tm_vec, (lambda x: Z[0] + (Z[1] * x) + (Z[2] * (x ** 2)) + (Z[3] * (x ** 3)))(tm_vec))"
   ]
  },
  {
   "cell_type": "code",
   "execution_count": 66,
   "metadata": {
    "collapsed": false
   },
   "outputs": [],
   "source": [
    "with open('submission-2.txt', 'w') as f:\n",
    "    f.write(\"%f %f %f %f\" % tuple(Z))"
   ]
  },
  {
   "cell_type": "code",
   "execution_count": 67,
   "metadata": {
    "collapsed": false
   },
   "outputs": [
    {
     "name": "stdout",
     "output_type": "stream",
     "text": [
      "4.362642 -1.295526 0.193337 -0.008236"
     ]
    }
   ],
   "source": [
    "!cat submission-2.txt"
   ]
  },
  {
   "cell_type": "markdown",
   "metadata": {},
   "source": [
    "#### Task 2 notes"
   ]
  },
  {
   "cell_type": "markdown",
   "metadata": {},
   "source": [
    "So, in order to solve a system of linear alg equations like following\n",
    "\n",
    "$$\n",
    "\\begin{cases}\n",
    "3x - 9y = -42 \\\\\n",
    "2x + 4y = 2\n",
    "\\end{cases}\n",
    "$$\n",
    "in matrix form, according to $AZ=B$ you will need to define\n",
    "\n",
    "$$\n",
    "A = \\begin{bmatrix}\n",
    "3 & -9 \\\\\n",
    "2 & 4\n",
    "\\end{bmatrix}\n",
    "$$\n",
    "\n",
    "$$\n",
    "Z = \\begin{bmatrix}\n",
    "x \\\\\n",
    "y\n",
    "\\end{bmatrix}\n",
    "$$\n",
    "\n",
    "$$\n",
    "B = \\begin{bmatrix}\n",
    "-42 \\\\\n",
    "2\n",
    "\\end{bmatrix}\n",
    "$$\n",
    "\n",
    "than, if $ \\det A \\neq 0 $, you may solve this equation by using this equation $ X = A^{-1}B $. Or using numpy just by calling numpy.linalg.solve(A, B)"
   ]
  },
  {
   "cell_type": "markdown",
   "metadata": {},
   "source": [
    "Next thing. Consider $ f(x) = 2x - 1 $ equation"
   ]
  },
  {
   "cell_type": "code",
   "execution_count": 68,
   "metadata": {
    "collapsed": false
   },
   "outputs": [
    {
     "data": {
      "text/plain": [
       "[<matplotlib.lines.Line2D at 0x10af4cc90>]"
      ]
     },
     "execution_count": 68,
     "metadata": {},
     "output_type": "execute_result"
    },
    {
     "data": {
      "image/png": "[encoded data removed]",
      "text/plain": [
       "<matplotlib.figure.Figure at 0x10ac41fd0>"
      ]
     },
     "metadata": {},
     "output_type": "display_data"
    }
   ],
   "source": [
    "t1 = np.arange(-2, 2, 0.1)\n",
    "plt.plot(t1, (lambda x: 2*x - 1)(t1))"
   ]
  },
  {
   "cell_type": "markdown",
   "metadata": {},
   "source": [
    "Let's say that we do not know exact equation, but have only a graph above.\n",
    "In order to draw this linear function (maximum pow of unknown variable is 1 [$ f(x) = kx^1 + b $]). This means that in order to find out coefficients we need at least 2 (greather by 1) linear equations like:\n",
    "\n",
    "$$ \n",
    "\\begin{cases}\n",
    "w_0 + w_1 x_1 + w_2 x^2_1 + ... + w_n x^n_1 = f(x_1) \\\\\n",
    "...\\\\\n",
    "w_0 + w_1 x_{n+1} + w_2 x^2_{n + 1} + ... + w_n x^n_{n + 1} = f(x_{n + 1})\n",
    "\\end{cases}\n",
    "$$\n",
    "\n",
    "because we need at least two points to draw the line. Saying this let's select first variable $x_1 = 0.65$ and second variable $ x_2 = 0.7 $\n",
    "\n",
    "Using graph (a picture above) we can find that for the first point $ x_1 = 0.65 $ our \"unknown\" function is equal to $ f(x_1) = 0.3 $ and in second point $ x_2 = 0.7 $ the function is equal to $ f(x_2) = 0.4 $\n",
    "\n",
    "So now we can write down a system of equations which describes our \"unknown\" function using two points we selected.\n",
    "\n",
    "$$ \n",
    "\\begin{cases}\n",
    "w_0 \\times x_1^0 + w_1 \\times x_1 = f(x_1) \\\\\n",
    "w_0 \\times x_2^0 + w_1 \\times x_2 = f(x_2)\n",
    "\\end{cases}\n",
    "$$\n",
    "\n",
    "And we can substitute the rest of values:\n",
    "\n",
    "$$ \n",
    "\\begin{cases}\n",
    "w_0 \\times 1 + w_1 \\times 0.65 = 0.3 \\\\\n",
    "w_0 \\times 1 + w_1 \\times 0.7 = 0.4\n",
    "\\end{cases}\n",
    "$$\n",
    "\n",
    "Such as now we need just to solve $ W = A^{-1} \\times B $ equation. For instance by calling numpy.linalg.solve( np.array([[1, 0.65], [1, 0.7]]), np.array([0.3, 0.4])).\n",
    "\n",
    "What will give us result [-1, 2]\n",
    "\n",
    "Now by substituting $w_0$ and $w_1$ the result into $w_0 \\times x_1^0 + w_1 \\times x_1 = f(x_1) $ equations we will have exactly our \"unknown\" function $-1 + 2x = f(x) \\equiv f(x) = 2x - 1 $. "
   ]
  },
  {
   "cell_type": "code",
   "execution_count": null,
   "metadata": {
    "collapsed": true
   },
   "outputs": [],
   "source": []
  }
 ],
 "metadata": {
  "kernelspec": {
   "display_name": "Python 2",
   "language": "python",
   "name": "python2"
  },
  "language_info": {
   "codemirror_mode": {
    "name": "ipython",
    "version": 2
   },
   "file_extension": ".py",
   "mimetype": "text/x-python",
   "name": "python",
   "nbconvert_exporter": "python",
   "pygments_lexer": "ipython2",
   "version": "2.7.10"
  }
 },
 "nbformat": 4,
 "nbformat_minor": 0
}
