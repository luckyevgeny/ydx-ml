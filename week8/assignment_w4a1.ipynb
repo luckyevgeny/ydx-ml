{
 "cells": [
  {
   "cell_type": "markdown",
   "metadata": {},
   "source": [
    "# Week 4 (Week 8). Assignment 1.\n",
    "\n",
    "Загрузите датасет digits с помощью функции load_digits из sklearn.datasets и подготовьте матрицу признаков X и ответы на обучающей выборке y (вам потребуются поля data и target в объекте, который возвращает load_digits).\n",
    "\n",
    "\n",
    "Для оценки качества далее нужно будет использовать cross_val_score из sklearn.cross_validation с параметром cv=10. Эта функция реализует k-fold cross validation c k равным значению параметра cv. Мы предлагаем использовать k=10, чтобы полученные оценки качества имели небольшой разброс, и было проще проверить полученные ответы. На практике же часто хватает и k=5. Функция cross_val_score будет возвращать numpy.ndarray, в котором будет k чисел - качество в каждом из k экспериментов k-fold cross validation. Для получения среднего значения (которое и будет оценкой качества работы) вызовите метод .mean() у массива, который возвращает cross_val_score.\n",
    "\n",
    "\n",
    "С небольшой вероятностью вы можете натолкнуться на случай, когда полученное вами качество в каком-то из пунктов не попадет в диапазон, заданный для правильных ответов - в этом случае попробуйте перезапустить ячейку с cross_val_score несколько раз и выбрать наиболее «типичное» значение. Если это не помогает, то где-то была допущена ошибка.\n",
    "\n",
    "\n",
    "Если вам захочется ускорить вычисление cross_val_score - можете попробовать использовать параметр n_jobs, но будьте осторожны: в одной из старых версий sklearn была ошибка, которая приводила к неверному результату работы cross_val_score при задании n_jobs отличным от 1. Сейчас такой проблемы возникнуть не должно, но проверить, что все в порядке, не будет лишним."
   ]
  },
  {
   "cell_type": "code",
   "execution_count": 1,
   "metadata": {
    "collapsed": true
   },
   "outputs": [],
   "source": [
    "%matplotlib inline"
   ]
  },
  {
   "cell_type": "code",
   "execution_count": 2,
   "metadata": {
    "collapsed": false
   },
   "outputs": [],
   "source": [
    "import numpy as np\n",
    "from matplotlib import pyplot as plt\n",
    "from sklearn.datasets import load_digits\n",
    "from sklearn import tree, cross_validation, ensemble\n",
    "\n",
    "\n",
    "def save_file(file_name, data):\n",
    "    with open(file_name, 'wt') as f:\n",
    "        f.write(data)"
   ]
  },
  {
   "cell_type": "markdown",
   "metadata": {},
   "source": [
    "## Task 1\n",
    "\n",
    "1. Создайте DecisionTreeClassifier с настройками по умолчанию и измерьте *качество его работы* с помощью cross_val_score. Эта величина и будет *ответом в пункте 1*."
   ]
  },
  {
   "cell_type": "code",
   "execution_count": 3,
   "metadata": {
    "collapsed": false
   },
   "outputs": [
    {
     "data": {
      "text/plain": [
       "<matplotlib.figure.Figure at 0x110518a90>"
      ]
     },
     "metadata": {},
     "output_type": "display_data"
    },
    {
     "data": {
      "image/png": "[encoded data removed]",
      "text/plain": [
       "<matplotlib.figure.Figure at 0x110518ad0>"
      ]
     },
     "metadata": {},
     "output_type": "display_data"
    }
   ],
   "source": [
    "digits = load_digits()\n",
    "\n",
    "plt.gray()\n",
    "plt.matshow(digits.images[0])\n",
    "plt.show()"
   ]
  },
  {
   "cell_type": "code",
   "execution_count": 4,
   "metadata": {
    "collapsed": false
   },
   "outputs": [
    {
     "name": "stdout",
     "output_type": "stream",
     "text": [
      "Scores for K-Fold(10) = [ 0.80540541  0.85245902  0.85082873  0.80555556  0.77653631  0.90502793\n",
      "  0.86592179  0.8258427   0.84180791  0.83522727]\n",
      "Mean score =  0.836461261912\n"
     ]
    }
   ],
   "source": [
    "decision_tree_classifier = tree.DecisionTreeClassifier()\n",
    "\n",
    "scores = cross_validation.cross_val_score(\n",
    "    decision_tree_classifier,\n",
    "    digits.data, digits.target, cv=10)\n",
    "mean_score = scores.mean()\n",
    "\n",
    "print u'Scores for K-Fold(10) =', scores\n",
    "print u'Mean score = ', mean_score\n",
    "\n",
    "save_file('w4_a1_t1.txt', str(mean_score))"
   ]
  },
  {
   "cell_type": "markdown",
   "metadata": {},
   "source": [
    "## Task 2\n",
    "\n",
    "2. Воспользуйтесь BaggingClassifier из sklearn.ensemble, чтобы обучить бэггинг над DecisionTreeClassifier. Используйте в BaggingClassifier параметры по умолчанию, задав только количество деревьев равным 100. *Качество классификации новой модели - ответ в пункте 2*. Обратите внимание, как соотносится качество работы композиции решающих деревьев с качеством работы одного решающего дерева."
   ]
  },
  {
   "cell_type": "code",
   "execution_count": 5,
   "metadata": {
    "collapsed": false
   },
   "outputs": [
    {
     "name": "stdout",
     "output_type": "stream",
     "text": [
      "Scores for K-Fold(10) = [ 0.88108108  0.95628415  0.91160221  0.93333333  0.92178771  1.\n",
      "  0.96648045  0.91573034  0.87570621  0.9375    ]\n",
      "Mean score = 0.929950548556\n"
     ]
    }
   ],
   "source": [
    "bagging_classifier = ensemble.BaggingClassifier(\n",
    "    decision_tree_classifier,\n",
    "    n_estimators=100)\n",
    "\n",
    "scores = cross_validation.cross_val_score(\n",
    "    bagging_classifier,\n",
    "    digits.data, digits.target, cv=10)\n",
    "mean_score = scores.mean()\n",
    "\n",
    "print u'Scores for K-Fold(10) =', scores\n",
    "print u'Mean score =', mean_score\n",
    "\n",
    "save_file('w4_a1_t2.txt', str(mean_score))"
   ]
  },
  {
   "cell_type": "markdown",
   "metadata": {},
   "source": [
    "## Task 3\n",
    "\n",
    "3. Теперь изучите параметры BaggingClassifier и выберите их такими, чтобы каждый базовый алгоритм обучался не на всех d признаках, а на $\\sqrt(d)$ случайных признаков. *Качество* работы получившегося классификатора - ответ в пункте 3. Корень из числа признаков - часто используемая эвристика в задачах классификации, в задачах регрессии же часто берут число признаков, деленное на три. Но в общем случае ничто не мешает вам выбирать любое другое число случайных признаков."
   ]
  },
  {
   "cell_type": "code",
   "execution_count": 6,
   "metadata": {
    "collapsed": false
   },
   "outputs": [
    {
     "name": "stdout",
     "output_type": "stream",
     "text": [
      "Scores for K-Fold(10) = [ 0.89189189  0.94535519  0.93370166  0.9         0.9273743   0.94972067\n",
      "  0.96089385  0.98314607  0.88700565  0.91477273]\n",
      "Mean score = 0.929386201183\n"
     ]
    }
   ],
   "source": [
    "bagging_classifier2 = ensemble.BaggingClassifier(\n",
    "    decision_tree_classifier,\n",
    "    n_estimators=100,\n",
    "    max_features=int(np.sqrt(digits.data.shape[1])))\n",
    "\n",
    "scores = cross_validation.cross_val_score(\n",
    "    bagging_classifier2,\n",
    "    digits.data, digits.target, cv=10)\n",
    "mean_score = scores.mean()\n",
    "\n",
    "print u'Scores for K-Fold(10) =', scores\n",
    "print u'Mean score =', mean_score\n",
    "\n",
    "save_file('w4_a1_t3.txt', str(mean_score))"
   ]
  },
  {
   "cell_type": "markdown",
   "metadata": {},
   "source": [
    "## Task 4\n",
    "\n",
    "4. Наконец, давайте попробуем выбирать случайные признаки не один раз на все дерево, а при построении каждой вершины дерева. Сделать это несложно: нужно убрать выбор случайного подмножества признаков в BaggingClassifier и добавить его в DecisionTreeClassifier. Какой параметр за это отвечает, можно понять из документации sklearn, либо просто попробовать угадать (скорее всего, у вас сразу получится). Попробуйте выбирать опять же $\\sqrt{d}$ признаков. Качество полученного классификатора на контрольной выборке и будет ответом в пункте 4."
   ]
  },
  {
   "cell_type": "code",
   "execution_count": 7,
   "metadata": {
    "collapsed": false
   },
   "outputs": [
    {
     "name": "stdout",
     "output_type": "stream",
     "text": [
      "Scores for K-Fold(10) = [ 0.9027027   0.96721311  0.93922652  0.97222222  0.95530726  0.97206704\n",
      "  0.97206704  0.96629213  0.92655367  0.94886364]\n",
      "Mean score = 0.952251534331\n"
     ]
    }
   ],
   "source": [
    "decision_tree_classifier2 = tree.DecisionTreeClassifier(max_features='sqrt')\n",
    "\n",
    "bagging_classifier3 = ensemble.BaggingClassifier(\n",
    "    decision_tree_classifier2,\n",
    "    n_estimators=100)\n",
    "\n",
    "scores = cross_validation.cross_val_score(\n",
    "    bagging_classifier3,\n",
    "    digits.data, digits.target, cv=10)\n",
    "mean_score = scores.mean()\n",
    "\n",
    "print u'Scores for K-Fold(10) =', scores\n",
    "print u'Mean score =', mean_score\n",
    "\n",
    "save_file('w4_a1_t4.txt', str(mean_score))"
   ]
  },
  {
   "cell_type": "markdown",
   "metadata": {},
   "source": [
    "## Task 5\n",
    "\n",
    "5. Полученный в пункте 4 классификатор - бэггинг на рандомизированных деревьях (в которых при построении каждой вершины выбирается случайное подмножество признаков и разбиение ищется только по ним). Это в точности соответствует алгоритму Random Forest, поэтому почему бы не сравнить качество работы классификатора с RandomForestClassifier из sklearn.ensemble. Сделайте это, а затем изучите, как качество классификации на данном датасете зависит от количества деревьев, количества признаков, выбираемых при построении каждой вершины дерева, а также ограничений на глубину дерева. Для наглядности лучше построить графики зависимости качества от значений параметров, но для сдачи задания это делать не обязательно. На основе наблюдений *выпишите через пробел номера правильных утверждений* из приведенных ниже в порядке возрастания номера (это будет ответ в п.5)\n",
    "\n",
    "\n",
    "* 1) Случайный лес сильно переобучается с ростом количества деревьев\n",
    "* 2) При очень маленьком числе деревьев (5, 10, 15), случайный лес работает хуже, чем при большем числе деревьев\n",
    "* 3) С ростом количества деревьев в случайном лесе, в какой-то момент деревьев становится достаточно для высокого качества классификации, а затем качество существенно не меняется.\n",
    "* 4) При большом количестве признаков (для данного датасета - 40, 50) качество классификации становится хуже, чем при малом количестве признаков (5, 10). Это связано с тем, что чем меньше признаков выбирается в каждом узле, тем более различными получаются деревья (ведь деревья сильно неустойчивы к изменениям в обучающей выборке), и тем лучше работает их композиция.\n",
    "* 5) При большом количестве признаков (40, 50, 60) качество классификации лучше, чем при малом количестве признаков (5, 10). Это связано с тем, что чем больше признаков - тем больше информации об объектах, а значит алгоритм может делать прогнозы более точно.\n",
    "* 6) При небольшой максимальной глубине деревьев (5-6) качество работы случайного леса намного лучше, чем без ограничения глубины, т.к. деревья получаются не переобученными. С ростом глубины деревьев качество ухудшается.\n",
    "* 7) При небольшой максимальной глубине деревьев (5-6) качество работы случайного леса заметно хуже, чем без ограничений, т.к. деревья получаются недообученными. С ростом глубины качество сначала улучшается, а затем не меняется существенно, т.к. из-за усреднения прогнозов и различий деревьев их переобученность в бэггинге не сказывается на итоговом качестве (все деревья преобучены по-разному, и при усреднении они компенсируют переобученность друг-друга)."
   ]
  },
  {
   "cell_type": "code",
   "execution_count": 8,
   "metadata": {
    "collapsed": false
   },
   "outputs": [
    {
     "name": "stdout",
     "output_type": "stream",
     "text": [
      "Scores for K-Fold(10) = [ 0.9027027   0.97814208  0.94475138  0.94444444  0.96089385  0.97206704\n",
      "  0.97765363  0.97752809  0.95480226  0.94886364]\n",
      "Mean score = 0.956184911614\n"
     ]
    }
   ],
   "source": [
    "random_forest = ensemble.RandomForestClassifier(n_estimators=100, max_features='sqrt')\n",
    "\n",
    "scores = cross_validation.cross_val_score(\n",
    "    random_forest,\n",
    "    digits.data, digits.target, cv=10)\n",
    "\n",
    "print u'Scores for K-Fold(10) =', scores\n",
    "print u'Mean score =', scores.mean()"
   ]
  },
  {
   "cell_type": "markdown",
   "metadata": {},
   "source": [
    "Ответ: 2,3,4,7"
   ]
  },
  {
   "cell_type": "code",
   "execution_count": 9,
   "metadata": {
    "collapsed": true
   },
   "outputs": [],
   "source": [
    "save_file('w4_a1_t5.txt', '2 3 4 7')"
   ]
  }
 ],
 "metadata": {
  "kernelspec": {
   "display_name": "Python 2",
   "language": "python",
   "name": "python2"
  },
  "language_info": {
   "codemirror_mode": {
    "name": "ipython",
    "version": 2
   },
   "file_extension": ".py",
   "mimetype": "text/x-python",
   "name": "python",
   "nbconvert_exporter": "python",
   "pygments_lexer": "ipython2",
   "version": "2.7.10"
  }
 },
 "nbformat": 4,
 "nbformat_minor": 0
}
