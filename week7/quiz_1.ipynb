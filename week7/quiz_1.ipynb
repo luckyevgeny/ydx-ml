{
 "cells": [
  {
   "cell_type": "code",
   "execution_count": 1,
   "metadata": {
    "collapsed": true
   },
   "outputs": [],
   "source": [
    "import sympy as sp\n",
    "sp.init_printing()"
   ]
  },
  {
   "cell_type": "markdown",
   "metadata": {},
   "source": [
    "### #1\n",
    "В сумке Кати N похожих ключей; только один из них подходит к двери от дома. Когда Катя вечером приходит домой, она наугад достаёт ключ из сумки и пытается открыть им дверь. Если ключ не подходит, она кладёт его обратно в сумку и снова достаёт наугад следующий. Каким законом задаётся распределение номера попытки X, с которой Кате удаётся открыть дверь?"
   ]
  },
  {
   "cell_type": "code",
   "execution_count": 2,
   "metadata": {
    "collapsed": true
   },
   "outputs": [],
   "source": [
    "i = sp.symbols('i')\n",
    "N, n, k = sp.symbols('N n k')"
   ]
  },
  {
   "cell_type": "code",
   "execution_count": 3,
   "metadata": {
    "collapsed": false
   },
   "outputs": [
    {
     "data": {
      "image/png": "[encoded data removed]",
      "text/latex": [
       "$$\\frac{1}{N} \\left(1 - \\frac{1}{N}\\right)^{k - 1}$$"
      ],
      "text/plain": [
       "       k - 1\n",
       "⎛    1⎞     \n",
       "⎜1 - ─⎟     \n",
       "⎝    N⎠     \n",
       "────────────\n",
       "     N      "
      ]
     },
     "execution_count": 3,
     "metadata": {},
     "output_type": "execute_result"
    }
   ],
   "source": [
    "1/N * (1 - 1/N)**(k-1)"
   ]
  },
  {
   "cell_type": "markdown",
   "metadata": {},
   "source": [
    "Геометрическое распределение\n",
    "\n",
    "---"
   ]
  },
  {
   "cell_type": "markdown",
   "metadata": {},
   "source": [
    "### #2\n",
    "\n",
    "Представим, что у нас есть данные $X_1,\\dots{},X_n$ за n дней о том, с какой попытки Кате удалось открыть дверь.\n",
    "\n",
    "Запишите функцию правдоподобия такой выборки и возьмите от неё логарифм.\n",
    "\n",
    "Какое выражение у вас получилось?\n",
    "\n",
    "---"
   ]
  },
  {
   "cell_type": "code",
   "execution_count": 4,
   "metadata": {
    "collapsed": false
   },
   "outputs": [],
   "source": [
    "# Что бы получилось использовать $X_i$ как в символьных\n",
    "# выражениях, так и при численном решении\n",
    "# определяем функцию X(i)\n",
    "class X(sp.Function):\n",
    "\n",
    "    X_DATA = [8, 12, 7, 6, 12]\n",
    "\n",
    "    @classmethod\n",
    "    def eval(cls, idx):\n",
    "        if idx.is_Number:\n",
    "            if idx >= 0 and idx < len(X.X_DATA):\n",
    "                return X.X_DATA[idx]\n",
    "            else:\n",
    "                return sp.S.Zero\n",
    "\n",
    "    def _eval_is_real(self):\n",
    "        return self.args[0].is_real"
   ]
  },
  {
   "cell_type": "code",
   "execution_count": 5,
   "metadata": {
    "collapsed": false
   },
   "outputs": [
    {
     "data": {
      "image/png": "[encoded data removed]",
      "text/latex": [
       "$$\\frac{1}{N} \\left(1 - \\frac{1}{N}\\right)^{X{\\left (i \\right )} - 1}$$"
      ],
      "text/plain": [
       "       X(i) - 1\n",
       "⎛    1⎞        \n",
       "⎜1 - ─⎟        \n",
       "⎝    N⎠        \n",
       "───────────────\n",
       "       N       "
      ]
     },
     "execution_count": 5,
     "metadata": {},
     "output_type": "execute_result"
    }
   ],
   "source": [
    "expr = 1/N * (1 - 1/N)**(X(i) - 1)\n",
    "expr"
   ]
  },
  {
   "cell_type": "markdown",
   "metadata": {},
   "source": [
    "Функция правдоподобия тогда получается:"
   ]
  },
  {
   "cell_type": "code",
   "execution_count": 6,
   "metadata": {
    "collapsed": false
   },
   "outputs": [
    {
     "data": {
      "image/png": "[encoded data removed]",
      "text/latex": [
       "$$\\prod_{i=0}^{n - 1} \\frac{1}{N} \\left(1 - \\frac{1}{N}\\right)^{X{\\left (i \\right )} - 1}$$"
      ],
      "text/plain": [
       "    n - 1                    \n",
       "┬───────────┬                \n",
       "│           │        X(i) - 1\n",
       "│           │ ⎛    1⎞        \n",
       "│           │ ⎜1 - ─⎟        \n",
       "│           │ ⎝    N⎠        \n",
       "│           │ ───────────────\n",
       "│           │        N       \n",
       "│           │                \n",
       "    i = 0                    "
      ]
     },
     "execution_count": 6,
     "metadata": {},
     "output_type": "execute_result"
    }
   ],
   "source": [
    "prod = sp.Product(expr, (i, 0, n - 1))\n",
    "prod"
   ]
  },
  {
   "cell_type": "code",
   "execution_count": 7,
   "metadata": {
    "collapsed": false
   },
   "outputs": [
    {
     "data": {
      "image/png": "[encoded data removed]",
      "text/latex": [
       "$$\\left(\\left(1 - \\frac{1}{N}\\right)^{\\sum_{i=0}^{n - 1} \\left(X{\\left (i \\right )} - 1\\right)}\\right) \\left(\\frac{1}{N}\\right)^{n}$$"
      ],
      "text/plain": [
       "       n - 1                \n",
       "        ___                 \n",
       "        ╲                   \n",
       "         ╲   (X(i) - 1)     \n",
       "         ╱                  \n",
       "        ╱                   \n",
       "        ‾‾‾                 \n",
       "       i = 0               n\n",
       "⎛    1⎞                 ⎛1⎞ \n",
       "⎜1 - ─⎟                ⋅⎜─⎟ \n",
       "⎝    N⎠                 ⎝N⎠ "
      ]
     },
     "execution_count": 7,
     "metadata": {},
     "output_type": "execute_result"
    }
   ],
   "source": [
    "subs_prod = prod.doit()\n",
    "subs_prod"
   ]
  },
  {
   "cell_type": "code",
   "execution_count": 8,
   "metadata": {
    "collapsed": false
   },
   "outputs": [
    {
     "data": {
      "image/png": "[encoded data removed]",
      "text/latex": [
       "$$\\log{\\left (\\left(\\left(1 - \\frac{1}{N}\\right)^{\\sum_{i=0}^{n - 1} \\left(X{\\left (i \\right )} - 1\\right)}\\right) \\left(\\frac{1}{N}\\right)^{n} \\right )}$$"
      ],
      "text/plain": [
       "   ⎛       n - 1                ⎞\n",
       "   ⎜        ___                 ⎟\n",
       "   ⎜        ╲                   ⎟\n",
       "   ⎜         ╲   (X(i) - 1)     ⎟\n",
       "   ⎜         ╱                  ⎟\n",
       "   ⎜        ╱                   ⎟\n",
       "   ⎜        ‾‾‾                 ⎟\n",
       "   ⎜       i = 0               n⎟\n",
       "   ⎜⎛    1⎞                 ⎛1⎞ ⎟\n",
       "log⎜⎜1 - ─⎟                ⋅⎜─⎟ ⎟\n",
       "   ⎝⎝    N⎠                 ⎝N⎠ ⎠"
      ]
     },
     "execution_count": 8,
     "metadata": {},
     "output_type": "execute_result"
    }
   ],
   "source": [
    "ln_prod = sp.ln(subs_prod)\n",
    "ln_prod"
   ]
  },
  {
   "cell_type": "markdown",
   "metadata": {},
   "source": [
    "Заставить sympy нормально развернуть произведение до $n \\ln{ \\frac{1}{n} } + (\\Sigma{X_i} - n) \\ln{1-\\frac{1}{N}}$ у меня не получилось, но на конечный результат это не влияет.\n",
    "\n",
    "---"
   ]
  },
  {
   "cell_type": "markdown",
   "metadata": {},
   "source": [
    "## #3\n",
    "За последние пять дней Кате удавалось открыть дверь с восьмой, двенадцатой, седьмой, шестой и снова двенадцатой попыток; давайте найдём оценку максимального правдоподобия для N. Подставьте эти числа в выражение для логарифма правдоподобия, продифференцируйте его по N и приравняйте к нулю. Из полученного уравнения выразите N. Итак, $\\hat{N}_{ОМП}=$"
   ]
  },
  {
   "cell_type": "code",
   "execution_count": 9,
   "metadata": {
    "collapsed": false
   },
   "outputs": [
    {
     "data": {
      "image/png": "[encoded data removed]",
      "text/latex": [
       "$$\\log{\\left (\\frac{1}{N^{5}} \\left(1 - \\frac{1}{N}\\right)^{40} \\right )}$$"
      ],
      "text/plain": [
       "   ⎛       40⎞\n",
       "   ⎜⎛    1⎞  ⎟\n",
       "   ⎜⎜1 - ─⎟  ⎟\n",
       "   ⎜⎝    N⎠  ⎟\n",
       "log⎜─────────⎟\n",
       "   ⎜     5   ⎟\n",
       "   ⎝    N    ⎠"
      ]
     },
     "execution_count": 9,
     "metadata": {},
     "output_type": "execute_result"
    }
   ],
   "source": [
    "subs_ln_prod = ln_prod.subs({n: 5}).doit()\n",
    "subs_ln_prod"
   ]
  },
  {
   "cell_type": "markdown",
   "metadata": {},
   "source": [
    "subs - подставляет количество дней $n$, а doit() вычисляет сумму $\\Sigma{} X_i$."
   ]
  },
  {
   "cell_type": "code",
   "execution_count": 10,
   "metadata": {
    "collapsed": false
   },
   "outputs": [
    {
     "data": {
      "image/png": "[encoded data removed]",
      "text/latex": [
       "$$\\frac{N^{5}}{\\left(1 - \\frac{1}{N}\\right)^{40}} \\left(- \\frac{5}{N^{6}} \\left(1 - \\frac{1}{N}\\right)^{40} + \\frac{40}{N^{7}} \\left(1 - \\frac{1}{N}\\right)^{39}\\right)$$"
      ],
      "text/plain": [
       "   ⎛           40             39⎞\n",
       "   ⎜    ⎛    1⎞        ⎛    1⎞  ⎟\n",
       "   ⎜  5⋅⎜1 - ─⎟     40⋅⎜1 - ─⎟  ⎟\n",
       " 5 ⎜    ⎝    N⎠        ⎝    N⎠  ⎟\n",
       "N ⋅⎜- ─────────── + ────────────⎟\n",
       "   ⎜        6             7     ⎟\n",
       "   ⎝       N             N      ⎠\n",
       "─────────────────────────────────\n",
       "                   40            \n",
       "            ⎛    1⎞              \n",
       "            ⎜1 - ─⎟              \n",
       "            ⎝    N⎠              "
      ]
     },
     "execution_count": 10,
     "metadata": {},
     "output_type": "execute_result"
    }
   ],
   "source": [
    "diff_eq = sp.diff(subs_ln_prod, N)\n",
    "diff_eq"
   ]
  },
  {
   "cell_type": "markdown",
   "metadata": {},
   "source": [
    "приравниваем производную к 0"
   ]
  },
  {
   "cell_type": "code",
   "execution_count": 11,
   "metadata": {
    "collapsed": false
   },
   "outputs": [
    {
     "data": {
      "image/png": "[encoded data removed]",
      "text/latex": [
       "$$\\frac{N^{5}}{\\left(1 - \\frac{1}{N}\\right)^{40}} \\left(- \\frac{5}{N^{6}} \\left(1 - \\frac{1}{N}\\right)^{40} + \\frac{40}{N^{7}} \\left(1 - \\frac{1}{N}\\right)^{39}\\right) = 0$$"
      ],
      "text/plain": [
       "   ⎛           40             39⎞    \n",
       "   ⎜    ⎛    1⎞        ⎛    1⎞  ⎟    \n",
       "   ⎜  5⋅⎜1 - ─⎟     40⋅⎜1 - ─⎟  ⎟    \n",
       " 5 ⎜    ⎝    N⎠        ⎝    N⎠  ⎟    \n",
       "N ⋅⎜- ─────────── + ────────────⎟    \n",
       "   ⎜        6             7     ⎟    \n",
       "   ⎝       N             N      ⎠    \n",
       "───────────────────────────────── = 0\n",
       "                   40                \n",
       "            ⎛    1⎞                  \n",
       "            ⎜1 - ─⎟                  \n",
       "            ⎝    N⎠                  "
      ]
     },
     "execution_count": 11,
     "metadata": {},
     "output_type": "execute_result"
    }
   ],
   "source": [
    "loss_eq = sp.Eq(diff_eq, 0)\n",
    "loss_eq"
   ]
  },
  {
   "cell_type": "markdown",
   "metadata": {},
   "source": [
    "и решаем относительно N"
   ]
  },
  {
   "cell_type": "code",
   "execution_count": 12,
   "metadata": {
    "collapsed": false
   },
   "outputs": [
    {
     "data": {
      "image/png": "[encoded data removed]",
      "text/latex": [
       "$$\\left [ 9\\right ]$$"
      ],
      "text/plain": [
       "[9]"
      ]
     },
     "execution_count": 12,
     "metadata": {},
     "output_type": "execute_result"
    }
   ],
   "source": [
    "sp.solve(loss_eq, N)"
   ]
  },
  {
   "cell_type": "code",
   "execution_count": null,
   "metadata": {
    "collapsed": true
   },
   "outputs": [],
   "source": []
  }
 ],
 "metadata": {
  "kernelspec": {
   "display_name": "Python 2",
   "language": "python",
   "name": "python2"
  },
  "language_info": {
   "codemirror_mode": {
    "name": "ipython",
    "version": 2
   },
   "file_extension": ".py",
   "mimetype": "text/x-python",
   "name": "python",
   "nbconvert_exporter": "python",
   "pygments_lexer": "ipython2",
   "version": "2.7.10"
  }
 },
 "nbformat": 4,
 "nbformat_minor": 0
}
